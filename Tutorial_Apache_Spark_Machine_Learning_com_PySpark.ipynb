{
  "nbformat": 4,
  "nbformat_minor": 0,
  "metadata": {
    "colab": {
      "provenance": [],
      "authorship_tag": "ABX9TyM1HNxuyna2Evr8AHh570jN",
      "include_colab_link": true
    },
    "kernelspec": {
      "name": "python3",
      "display_name": "Python 3"
    },
    "language_info": {
      "name": "python"
    }
  },
  "cells": [
    {
      "cell_type": "markdown",
      "metadata": {
        "id": "view-in-github",
        "colab_type": "text"
      },
      "source": [
        "<a href=\"https://colab.research.google.com/github/FGalvao77/Tutorial-Apache-Spark-Machine-Learning-com-PySpark/blob/main/Tutorial_Apache_Spark_Machine_Learning_com_PySpark.ipynb\" target=\"_parent\"><img src=\"https://colab.research.google.com/assets/colab-badge.svg\" alt=\"Open In Colab\"/></a>"
      ]
    },
    {
      "cell_type": "markdown",
      "source": [
        "<br>\n",
        "\n",
        "## **Tutorial Apache Spark: _Machine Learning_ com `PySpark`**\n",
        "---\n",
        "---"
      ],
      "metadata": {
        "id": "r-DYavt_-EgP"
      }
    },
    {
      "cell_type": "markdown",
      "source": [
        "O tutorial do **Apache Spark** apresenta o processamento, a análise e o Machine Leaning de _Big Data_ com o `PySpark`."
      ],
      "metadata": {
        "id": "lFrfCqpY-Cae"
      }
    },
    {
      "cell_type": "markdown",
      "source": [
        "**Apache Spark e Python para Big Data e Machine Learning**\n",
        "\n",
        "<br>\n",
        "\n",
        "O `Apache Spark` é conhecido como um mecanismo rápido, fácil de usar e geral para processamento de `Big Data` que possui módulos integrados para _streaming_, _SQL_, _Machine Learning (ML)_ e processamento de gráficos. Essa tecnologia é uma habilidade em demanda para **engenheiros de dados**, mas também os **cientistas de dados** podem se beneficiar do aprendizado do **Spark** ao fazer `Análise Exploratória de Dados` (**EDA** - _Exploratory Data Analysis_), extração de recursos e, é claro, ML.\n",
        "\n",
        "Neste tutorial, você fará a interface do Spark com o Python por meio do PySpark, a API do Spark Python que expõe o modelo de programação do Spark ao Python. Mais concretamente, você se concentrará em:\n",
        "\n",
        "- Instalar o PySpark localmente em seu computador pessoal e configurá-lo para que você possa trabalhar com o shell interativo do Spark para fazer análises rápidas e interativas de seus dados.\n",
        "- Aprendendo a trabalhar com o básico do Spark: você verá como pode criar `RDDs` e realizar operações básicas neles.\n",
        "- Introdução ao PySpark no Jupyter Notebook e/ou Google Colab e carregamento em um conjunto de dados da vida real.\n",
        "- Explorando e pré-processando os dados que você carregou na primeira etapa, a ajuda de DataFrames, que exige que você faça uso do _Spark SQL_, que permite consultar dados estruturados dentro de programas Spark.\n",
        "- Criando um modelo de regressão linear com Spark ML para alimentá-lo com os dados, após o qual você poderá fazer previsões. E por fim,\n",
        "- Avaliando o modelo de aprendizado de máquina que você criou."
      ],
      "metadata": {
        "id": "nBHvIMt6LGkw"
      }
    },
    {
      "cell_type": "markdown",
      "source": [
        "**Instalando o Apache Spark e as dependências necessárias**\n",
        "\n",
        "<br>\n",
        "\n",
        "Instalar o Spark e fazê-lo funcionar pode ser um desafio, você pode instalá-lo e configurar no seu PC.\n",
        "\n",
        "A primeira coisa que você deseja fazer é verificar se atende aos pré-requisitos. O Spark é escrito em linguagem de programação Scala e é executado no ambiente Java Virtual Machine (JVM). É por isso que você precisa verificar se possui um [Java Development Kit (JDK)](http://www.oracle.com/technetwork/java/javase/downloads/jdk8-downloads-2133151.html) instalado. Você faz isso porque o JDK fornecerá uma ou mais implementações da JVM. De preferência, você deseja escolher o mais recente, que, no momento da redação deste artigo, é o JDK8.\n",
        "\n",
        "Em seguida, você está lendo para baixar o Spark!\n",
        "\n",
        "**Baixando `pyspark` com pip**\n",
        "\n",
        "Em seguida, você pode baixar e instalar o PySpark com a ajuda de pip. Isso é bastante fácil e muito parecido com a instalação de qualquer outro pacote em Python. Você apenas executa o comando usual e o trabalho pesado é feito para você:\n",
        "\n",
        "```python \n",
        "!pip install pyspark\n",
        "```\n",
        "\n",
        "Nesse tutorial iremos utilizar o PySpark no ambiente do `Google Colab`, por ser mais prático! Mas mesmo assim, será necessário algumas configurações extras."
      ],
      "metadata": {
        "id": "9yV2MbSLMQ-6"
      }
    },
    {
      "cell_type": "code",
      "source": [
        "# Instalando as dependências necessárias e as bibliotecas \"findspark\" e \"pyspark\"\n",
        "!apt-get install openjdk-8-jdk-headless -qq > /dev/null\n",
        "!wget -q https://archive.apache.org/dist/spark/spark-3.1.2/spark-3.1.2-bin-hadoop2.7.tgz\n",
        "!tar xf spark-3.1.2-bin-hadoop2.7.tgz\n",
        "\n",
        "!pip install -q findspark\n",
        "!pip install -q pyspark"
      ],
      "metadata": {
        "colab": {
          "base_uri": "https://localhost:8080/"
        },
        "id": "8IpvIijgyRez",
        "outputId": "c5fe8860-702e-4dd9-ddd7-6ab3d666a5ae"
      },
      "execution_count": 1,
      "outputs": [
        {
          "output_type": "stream",
          "name": "stdout",
          "text": [
            "\u001b[2K     \u001b[90m━━━━━━━━━━━━━━━━━━━━━━━━━━━━━━━━━━━━━━━\u001b[0m \u001b[32m310.8/310.8 MB\u001b[0m \u001b[31m4.8 MB/s\u001b[0m eta \u001b[36m0:00:00\u001b[0m\n",
            "\u001b[?25h  Preparing metadata (setup.py) ... \u001b[?25l\u001b[?25hdone\n",
            "  Building wheel for pyspark (setup.py) ... \u001b[?25l\u001b[?25hdone\n"
          ]
        }
      ]
    },
    {
      "cell_type": "code",
      "source": [
        "# Configurando as dependências de ambiente\n",
        "import os\n",
        "\n",
        "os.environ['JAVA_HOME'] = '/usr/lib/jvm/java-8-openjdk-amd64'\n",
        "os.environ['SPARK_HOME'] = '/content/spark-3.1.2-bin-hadoop2.7'"
      ],
      "metadata": {
        "id": "jKAyZWavyRcA"
      },
      "execution_count": 2,
      "outputs": []
    },
    {
      "cell_type": "markdown",
      "source": [
        "**Os dados**\n",
        "\n",
        "Para nosso tutorial, você usará o conjunto de dados [California Housing](https://www.dcc.fc.up.pt/~ltorgo/Regression/cal_housing.html) . Observe, é claro, que na verdade são dados 'pequenos' e que usar o Spark nesse contexto pode ser um exagero. Este tutorial é apenas para fins educacionais e destina-se a fornecer uma ideia de como você pode usar o PySpark para criar um modelo de aprendizado de máquina.\n",
        "\n",
        "\n",
        "Agora se você preferir poderá baixar os dados [aqui](http://lib.stat.cmu.edu/datasets/). Procure a pasta `houses.zip`, faça o download e descompacte-o para que você possa acessar as pastas de dados.\n",
        "\n",
        "Em seguida, você usará o método `textFile()` para ler os dados da pasta que você baixou para **RDDs**. Este método pega um URI para o arquivo, que é neste caso o caminho local de sua máquina, e o lê como uma coleção de linhas. Para sua comodidade, você lerá não apenas o arquivo `.data`, mas também o arquivo `.domain` que contém o cabeçalho. Isso permitirá que você verifique novamente a ordem das variáveis.\n",
        "\n",
        "```python\n",
        "# Load in the data | Carregando os dados\n",
        "rdd = sc.textFile('/Users/yourName/Downloads/CaliforniaHousing/cal_housing.data')\n",
        "\n",
        "# Load in the header | Lendo o cabeçalho\n",
        "header = sc.textFile('/Users/yourName/Downloads/CaliforniaHousing/cal_housing.domain')\n",
        "```\n",
        "\n",
        "Mas para aplicação no `Colab`, utilizarei o conjunto de dados já presente no ambiente, ou seja, um conjunto de dados de treino e outro para teste. "
      ],
      "metadata": {
        "id": "WFJmxYcDNYWW"
      }
    },
    {
      "cell_type": "code",
      "source": [
        "# Importando os dados de treino e teste, esses já presente no ambiente do Colab\n",
        "train_data = '/content/sample_data/california_housing_train.csv'\n",
        "test_data = '/content/sample_data/california_housing_test.csv'"
      ],
      "metadata": {
        "id": "inEw9D8H0PEU"
      },
      "execution_count": 3,
      "outputs": []
    },
    {
      "cell_type": "markdown",
      "source": [
        "### **Carregando, preparando e explorando os dados**\n",
        "\n",
        "Mesmo sabendo um pouco mais sobre seus dados, você deve reservar um tempo para prosseguir e explorá-los mais profundamente; Antes de fazer isso, no entanto, você configurará seu Jupyter Notebook com Spark e dará alguns primeiros passos para definir o SparkContext.\n",
        "\n",
        "**PySpark no notebook Jupyter / Google Colab**\n",
        "\n",
        "Nesta parte do tutorial, você não usará o ishell, mas criará seu próprio aplicativo. Você fará isso em um Jupyter Notebook. Você já tem tudo o que precisa instalado, então não precisa fazer muito para que o PySpark funcione no Jupyter.\n",
        "\n",
        "Você pode simplesmente iniciar o aplicativo de notebook da mesma forma que sempre faz, executando `$jupyter notebook`. Então, você faz um novo notebook e simplesmente importa a biblioteca `findspark` e usa a função `init()`. Nesse caso, você fornecerá o caminho `/usr/local/spark` porque `init()` tem certeza de que esse é o caminho onde instalou o Spark.\n",
        "\n",
        "**Dica:** se você não tem ideia se seu caminho está definido corretamente ou onde você instalou o Spark no seu PC, você sempre pode usar `findspark.find()` para detectar automaticamente o local onde o Spark está instalado."
      ],
      "metadata": {
        "id": "o59rYLgvN5wg"
      }
    },
    {
      "cell_type": "code",
      "source": [
        "# Importando e inicializando a bilioteca\n",
        "import findspark\n",
        "\n",
        "findspark.init()"
      ],
      "metadata": {
        "id": "8cjObLBxyRZB"
      },
      "execution_count": 4,
      "outputs": []
    },
    {
      "cell_type": "code",
      "source": [
        "# Importando o módulo para iniciar uma sessão Spark e definindo os seus parâmetros\n",
        "from pyspark.sql import SparkSession\n",
        "\n",
        "spark = SparkSession.builder \\\n",
        "    .master('local') \\\n",
        "    .appName('Linear Regression Model') \\\n",
        "    .config('spark.executor.memory', '1gb') \\\n",
        "    .getOrCreate()"
      ],
      "metadata": {
        "id": "0DKvWFiT0PJ6"
      },
      "execution_count": 5,
      "outputs": []
    },
    {
      "cell_type": "code",
      "source": [
        "# Instanciando a variável \"sc\"\n",
        "sc = spark.sparkContext\n",
        "\n",
        "sc"
      ],
      "metadata": {
        "colab": {
          "base_uri": "https://localhost:8080/",
          "height": 196
        },
        "id": "Bzpe-7QI0PHg",
        "outputId": "2b6addc9-662e-4589-9140-3b950278f3d3"
      },
      "execution_count": 6,
      "outputs": [
        {
          "output_type": "execute_result",
          "data": {
            "text/plain": [
              "<SparkContext master=local appName=Linear Regression Model>"
            ],
            "text/html": [
              "\n",
              "        <div>\n",
              "            <p><b>SparkContext</b></p>\n",
              "\n",
              "            <p><a href=\"http://f58dad98c620:4040\">Spark UI</a></p>\n",
              "\n",
              "            <dl>\n",
              "              <dt>Version</dt>\n",
              "                <dd><code>v3.1.2</code></dd>\n",
              "              <dt>Master</dt>\n",
              "                <dd><code>local</code></dd>\n",
              "              <dt>AppName</dt>\n",
              "                <dd><code>Linear Regression Model</code></dd>\n",
              "            </dl>\n",
              "        </div>\n",
              "        "
            ]
          },
          "metadata": {},
          "execution_count": 6
        }
      ]
    },
    {
      "cell_type": "code",
      "source": [
        "# Importando a biblioteca para análise e manipulação de dados\n",
        "import pandas as pd"
      ],
      "metadata": {
        "id": "tTi8PeN60PBI"
      },
      "execution_count": 7,
      "outputs": []
    },
    {
      "cell_type": "code",
      "source": [
        "# Instanciando o conjunto de dados de treino\n",
        "train = pd.read_csv(\n",
        "    filepath_or_buffer=train_data\n",
        ")\n",
        "\n",
        "# Visualizando as primeiras observações\n",
        "train.head()"
      ],
      "metadata": {
        "colab": {
          "base_uri": "https://localhost:8080/",
          "height": 206
        },
        "id": "ZOFoy7xa0O8Y",
        "outputId": "c48fbb62-ffd7-4eee-b7cb-e80efc200056"
      },
      "execution_count": 8,
      "outputs": [
        {
          "output_type": "execute_result",
          "data": {
            "text/plain": [
              "   longitude  latitude  housing_median_age  total_rooms  total_bedrooms  \\\n",
              "0    -114.31     34.19                15.0       5612.0          1283.0   \n",
              "1    -114.47     34.40                19.0       7650.0          1901.0   \n",
              "2    -114.56     33.69                17.0        720.0           174.0   \n",
              "3    -114.57     33.64                14.0       1501.0           337.0   \n",
              "4    -114.57     33.57                20.0       1454.0           326.0   \n",
              "\n",
              "   population  households  median_income  median_house_value  \n",
              "0      1015.0       472.0         1.4936             66900.0  \n",
              "1      1129.0       463.0         1.8200             80100.0  \n",
              "2       333.0       117.0         1.6509             85700.0  \n",
              "3       515.0       226.0         3.1917             73400.0  \n",
              "4       624.0       262.0         1.9250             65500.0  "
            ],
            "text/html": [
              "\n",
              "  <div id=\"df-d9c8c4d0-86f0-43ba-9e98-b7c18fc7e2f7\">\n",
              "    <div class=\"colab-df-container\">\n",
              "      <div>\n",
              "<style scoped>\n",
              "    .dataframe tbody tr th:only-of-type {\n",
              "        vertical-align: middle;\n",
              "    }\n",
              "\n",
              "    .dataframe tbody tr th {\n",
              "        vertical-align: top;\n",
              "    }\n",
              "\n",
              "    .dataframe thead th {\n",
              "        text-align: right;\n",
              "    }\n",
              "</style>\n",
              "<table border=\"1\" class=\"dataframe\">\n",
              "  <thead>\n",
              "    <tr style=\"text-align: right;\">\n",
              "      <th></th>\n",
              "      <th>longitude</th>\n",
              "      <th>latitude</th>\n",
              "      <th>housing_median_age</th>\n",
              "      <th>total_rooms</th>\n",
              "      <th>total_bedrooms</th>\n",
              "      <th>population</th>\n",
              "      <th>households</th>\n",
              "      <th>median_income</th>\n",
              "      <th>median_house_value</th>\n",
              "    </tr>\n",
              "  </thead>\n",
              "  <tbody>\n",
              "    <tr>\n",
              "      <th>0</th>\n",
              "      <td>-114.31</td>\n",
              "      <td>34.19</td>\n",
              "      <td>15.0</td>\n",
              "      <td>5612.0</td>\n",
              "      <td>1283.0</td>\n",
              "      <td>1015.0</td>\n",
              "      <td>472.0</td>\n",
              "      <td>1.4936</td>\n",
              "      <td>66900.0</td>\n",
              "    </tr>\n",
              "    <tr>\n",
              "      <th>1</th>\n",
              "      <td>-114.47</td>\n",
              "      <td>34.40</td>\n",
              "      <td>19.0</td>\n",
              "      <td>7650.0</td>\n",
              "      <td>1901.0</td>\n",
              "      <td>1129.0</td>\n",
              "      <td>463.0</td>\n",
              "      <td>1.8200</td>\n",
              "      <td>80100.0</td>\n",
              "    </tr>\n",
              "    <tr>\n",
              "      <th>2</th>\n",
              "      <td>-114.56</td>\n",
              "      <td>33.69</td>\n",
              "      <td>17.0</td>\n",
              "      <td>720.0</td>\n",
              "      <td>174.0</td>\n",
              "      <td>333.0</td>\n",
              "      <td>117.0</td>\n",
              "      <td>1.6509</td>\n",
              "      <td>85700.0</td>\n",
              "    </tr>\n",
              "    <tr>\n",
              "      <th>3</th>\n",
              "      <td>-114.57</td>\n",
              "      <td>33.64</td>\n",
              "      <td>14.0</td>\n",
              "      <td>1501.0</td>\n",
              "      <td>337.0</td>\n",
              "      <td>515.0</td>\n",
              "      <td>226.0</td>\n",
              "      <td>3.1917</td>\n",
              "      <td>73400.0</td>\n",
              "    </tr>\n",
              "    <tr>\n",
              "      <th>4</th>\n",
              "      <td>-114.57</td>\n",
              "      <td>33.57</td>\n",
              "      <td>20.0</td>\n",
              "      <td>1454.0</td>\n",
              "      <td>326.0</td>\n",
              "      <td>624.0</td>\n",
              "      <td>262.0</td>\n",
              "      <td>1.9250</td>\n",
              "      <td>65500.0</td>\n",
              "    </tr>\n",
              "  </tbody>\n",
              "</table>\n",
              "</div>\n",
              "      <button class=\"colab-df-convert\" onclick=\"convertToInteractive('df-d9c8c4d0-86f0-43ba-9e98-b7c18fc7e2f7')\"\n",
              "              title=\"Convert this dataframe to an interactive table.\"\n",
              "              style=\"display:none;\">\n",
              "        \n",
              "  <svg xmlns=\"http://www.w3.org/2000/svg\" height=\"24px\"viewBox=\"0 0 24 24\"\n",
              "       width=\"24px\">\n",
              "    <path d=\"M0 0h24v24H0V0z\" fill=\"none\"/>\n",
              "    <path d=\"M18.56 5.44l.94 2.06.94-2.06 2.06-.94-2.06-.94-.94-2.06-.94 2.06-2.06.94zm-11 1L8.5 8.5l.94-2.06 2.06-.94-2.06-.94L8.5 2.5l-.94 2.06-2.06.94zm10 10l.94 2.06.94-2.06 2.06-.94-2.06-.94-.94-2.06-.94 2.06-2.06.94z\"/><path d=\"M17.41 7.96l-1.37-1.37c-.4-.4-.92-.59-1.43-.59-.52 0-1.04.2-1.43.59L10.3 9.45l-7.72 7.72c-.78.78-.78 2.05 0 2.83L4 21.41c.39.39.9.59 1.41.59.51 0 1.02-.2 1.41-.59l7.78-7.78 2.81-2.81c.8-.78.8-2.07 0-2.86zM5.41 20L4 18.59l7.72-7.72 1.47 1.35L5.41 20z\"/>\n",
              "  </svg>\n",
              "      </button>\n",
              "      \n",
              "  <style>\n",
              "    .colab-df-container {\n",
              "      display:flex;\n",
              "      flex-wrap:wrap;\n",
              "      gap: 12px;\n",
              "    }\n",
              "\n",
              "    .colab-df-convert {\n",
              "      background-color: #E8F0FE;\n",
              "      border: none;\n",
              "      border-radius: 50%;\n",
              "      cursor: pointer;\n",
              "      display: none;\n",
              "      fill: #1967D2;\n",
              "      height: 32px;\n",
              "      padding: 0 0 0 0;\n",
              "      width: 32px;\n",
              "    }\n",
              "\n",
              "    .colab-df-convert:hover {\n",
              "      background-color: #E2EBFA;\n",
              "      box-shadow: 0px 1px 2px rgba(60, 64, 67, 0.3), 0px 1px 3px 1px rgba(60, 64, 67, 0.15);\n",
              "      fill: #174EA6;\n",
              "    }\n",
              "\n",
              "    [theme=dark] .colab-df-convert {\n",
              "      background-color: #3B4455;\n",
              "      fill: #D2E3FC;\n",
              "    }\n",
              "\n",
              "    [theme=dark] .colab-df-convert:hover {\n",
              "      background-color: #434B5C;\n",
              "      box-shadow: 0px 1px 3px 1px rgba(0, 0, 0, 0.15);\n",
              "      filter: drop-shadow(0px 1px 2px rgba(0, 0, 0, 0.3));\n",
              "      fill: #FFFFFF;\n",
              "    }\n",
              "  </style>\n",
              "\n",
              "      <script>\n",
              "        const buttonEl =\n",
              "          document.querySelector('#df-d9c8c4d0-86f0-43ba-9e98-b7c18fc7e2f7 button.colab-df-convert');\n",
              "        buttonEl.style.display =\n",
              "          google.colab.kernel.accessAllowed ? 'block' : 'none';\n",
              "\n",
              "        async function convertToInteractive(key) {\n",
              "          const element = document.querySelector('#df-d9c8c4d0-86f0-43ba-9e98-b7c18fc7e2f7');\n",
              "          const dataTable =\n",
              "            await google.colab.kernel.invokeFunction('convertToInteractive',\n",
              "                                                     [key], {});\n",
              "          if (!dataTable) return;\n",
              "\n",
              "          const docLinkHtml = 'Like what you see? Visit the ' +\n",
              "            '<a target=\"_blank\" href=https://colab.research.google.com/notebooks/data_table.ipynb>data table notebook</a>'\n",
              "            + ' to learn more about interactive tables.';\n",
              "          element.innerHTML = '';\n",
              "          dataTable['output_type'] = 'display_data';\n",
              "          await google.colab.output.renderOutput(dataTable, element);\n",
              "          const docLink = document.createElement('div');\n",
              "          docLink.innerHTML = docLinkHtml;\n",
              "          element.appendChild(docLink);\n",
              "        }\n",
              "      </script>\n",
              "    </div>\n",
              "  </div>\n",
              "  "
            ]
          },
          "metadata": {},
          "execution_count": 8
        }
      ]
    },
    {
      "cell_type": "code",
      "source": [
        "# Contabilizando a quantidade de linhas e colunas e, visualizando o nome dos atributos\n",
        "train.shape, train.columns"
      ],
      "metadata": {
        "colab": {
          "base_uri": "https://localhost:8080/"
        },
        "id": "idn9FMw20O5s",
        "outputId": "246abaa3-9de0-4849-e55b-738518585300"
      },
      "execution_count": 9,
      "outputs": [
        {
          "output_type": "execute_result",
          "data": {
            "text/plain": [
              "((17000, 9),\n",
              " Index(['longitude', 'latitude', 'housing_median_age', 'total_rooms',\n",
              "        'total_bedrooms', 'population', 'households', 'median_income',\n",
              "        'median_house_value'],\n",
              "       dtype='object'))"
            ]
          },
          "metadata": {},
          "execution_count": 9
        }
      ]
    },
    {
      "cell_type": "code",
      "source": [
        "# Instanciando o conjunto de dados de teste\n",
        "test = pd.read_csv(\n",
        "    filepath_or_buffer=test_data\n",
        ")\n",
        "\n",
        "# Visualizando as primeiras observações\n",
        "test.head()"
      ],
      "metadata": {
        "colab": {
          "base_uri": "https://localhost:8080/",
          "height": 206
        },
        "id": "4pwcfjI20O2Y",
        "outputId": "8377486b-eca2-4379-deba-4ee608232ff1"
      },
      "execution_count": 10,
      "outputs": [
        {
          "output_type": "execute_result",
          "data": {
            "text/plain": [
              "   longitude  latitude  housing_median_age  total_rooms  total_bedrooms  \\\n",
              "0    -122.05     37.37                27.0       3885.0           661.0   \n",
              "1    -118.30     34.26                43.0       1510.0           310.0   \n",
              "2    -117.81     33.78                27.0       3589.0           507.0   \n",
              "3    -118.36     33.82                28.0         67.0            15.0   \n",
              "4    -119.67     36.33                19.0       1241.0           244.0   \n",
              "\n",
              "   population  households  median_income  median_house_value  \n",
              "0      1537.0       606.0         6.6085            344700.0  \n",
              "1       809.0       277.0         3.5990            176500.0  \n",
              "2      1484.0       495.0         5.7934            270500.0  \n",
              "3        49.0        11.0         6.1359            330000.0  \n",
              "4       850.0       237.0         2.9375             81700.0  "
            ],
            "text/html": [
              "\n",
              "  <div id=\"df-37e09d8f-5026-4ed1-9c12-b8e1251d1641\">\n",
              "    <div class=\"colab-df-container\">\n",
              "      <div>\n",
              "<style scoped>\n",
              "    .dataframe tbody tr th:only-of-type {\n",
              "        vertical-align: middle;\n",
              "    }\n",
              "\n",
              "    .dataframe tbody tr th {\n",
              "        vertical-align: top;\n",
              "    }\n",
              "\n",
              "    .dataframe thead th {\n",
              "        text-align: right;\n",
              "    }\n",
              "</style>\n",
              "<table border=\"1\" class=\"dataframe\">\n",
              "  <thead>\n",
              "    <tr style=\"text-align: right;\">\n",
              "      <th></th>\n",
              "      <th>longitude</th>\n",
              "      <th>latitude</th>\n",
              "      <th>housing_median_age</th>\n",
              "      <th>total_rooms</th>\n",
              "      <th>total_bedrooms</th>\n",
              "      <th>population</th>\n",
              "      <th>households</th>\n",
              "      <th>median_income</th>\n",
              "      <th>median_house_value</th>\n",
              "    </tr>\n",
              "  </thead>\n",
              "  <tbody>\n",
              "    <tr>\n",
              "      <th>0</th>\n",
              "      <td>-122.05</td>\n",
              "      <td>37.37</td>\n",
              "      <td>27.0</td>\n",
              "      <td>3885.0</td>\n",
              "      <td>661.0</td>\n",
              "      <td>1537.0</td>\n",
              "      <td>606.0</td>\n",
              "      <td>6.6085</td>\n",
              "      <td>344700.0</td>\n",
              "    </tr>\n",
              "    <tr>\n",
              "      <th>1</th>\n",
              "      <td>-118.30</td>\n",
              "      <td>34.26</td>\n",
              "      <td>43.0</td>\n",
              "      <td>1510.0</td>\n",
              "      <td>310.0</td>\n",
              "      <td>809.0</td>\n",
              "      <td>277.0</td>\n",
              "      <td>3.5990</td>\n",
              "      <td>176500.0</td>\n",
              "    </tr>\n",
              "    <tr>\n",
              "      <th>2</th>\n",
              "      <td>-117.81</td>\n",
              "      <td>33.78</td>\n",
              "      <td>27.0</td>\n",
              "      <td>3589.0</td>\n",
              "      <td>507.0</td>\n",
              "      <td>1484.0</td>\n",
              "      <td>495.0</td>\n",
              "      <td>5.7934</td>\n",
              "      <td>270500.0</td>\n",
              "    </tr>\n",
              "    <tr>\n",
              "      <th>3</th>\n",
              "      <td>-118.36</td>\n",
              "      <td>33.82</td>\n",
              "      <td>28.0</td>\n",
              "      <td>67.0</td>\n",
              "      <td>15.0</td>\n",
              "      <td>49.0</td>\n",
              "      <td>11.0</td>\n",
              "      <td>6.1359</td>\n",
              "      <td>330000.0</td>\n",
              "    </tr>\n",
              "    <tr>\n",
              "      <th>4</th>\n",
              "      <td>-119.67</td>\n",
              "      <td>36.33</td>\n",
              "      <td>19.0</td>\n",
              "      <td>1241.0</td>\n",
              "      <td>244.0</td>\n",
              "      <td>850.0</td>\n",
              "      <td>237.0</td>\n",
              "      <td>2.9375</td>\n",
              "      <td>81700.0</td>\n",
              "    </tr>\n",
              "  </tbody>\n",
              "</table>\n",
              "</div>\n",
              "      <button class=\"colab-df-convert\" onclick=\"convertToInteractive('df-37e09d8f-5026-4ed1-9c12-b8e1251d1641')\"\n",
              "              title=\"Convert this dataframe to an interactive table.\"\n",
              "              style=\"display:none;\">\n",
              "        \n",
              "  <svg xmlns=\"http://www.w3.org/2000/svg\" height=\"24px\"viewBox=\"0 0 24 24\"\n",
              "       width=\"24px\">\n",
              "    <path d=\"M0 0h24v24H0V0z\" fill=\"none\"/>\n",
              "    <path d=\"M18.56 5.44l.94 2.06.94-2.06 2.06-.94-2.06-.94-.94-2.06-.94 2.06-2.06.94zm-11 1L8.5 8.5l.94-2.06 2.06-.94-2.06-.94L8.5 2.5l-.94 2.06-2.06.94zm10 10l.94 2.06.94-2.06 2.06-.94-2.06-.94-.94-2.06-.94 2.06-2.06.94z\"/><path d=\"M17.41 7.96l-1.37-1.37c-.4-.4-.92-.59-1.43-.59-.52 0-1.04.2-1.43.59L10.3 9.45l-7.72 7.72c-.78.78-.78 2.05 0 2.83L4 21.41c.39.39.9.59 1.41.59.51 0 1.02-.2 1.41-.59l7.78-7.78 2.81-2.81c.8-.78.8-2.07 0-2.86zM5.41 20L4 18.59l7.72-7.72 1.47 1.35L5.41 20z\"/>\n",
              "  </svg>\n",
              "      </button>\n",
              "      \n",
              "  <style>\n",
              "    .colab-df-container {\n",
              "      display:flex;\n",
              "      flex-wrap:wrap;\n",
              "      gap: 12px;\n",
              "    }\n",
              "\n",
              "    .colab-df-convert {\n",
              "      background-color: #E8F0FE;\n",
              "      border: none;\n",
              "      border-radius: 50%;\n",
              "      cursor: pointer;\n",
              "      display: none;\n",
              "      fill: #1967D2;\n",
              "      height: 32px;\n",
              "      padding: 0 0 0 0;\n",
              "      width: 32px;\n",
              "    }\n",
              "\n",
              "    .colab-df-convert:hover {\n",
              "      background-color: #E2EBFA;\n",
              "      box-shadow: 0px 1px 2px rgba(60, 64, 67, 0.3), 0px 1px 3px 1px rgba(60, 64, 67, 0.15);\n",
              "      fill: #174EA6;\n",
              "    }\n",
              "\n",
              "    [theme=dark] .colab-df-convert {\n",
              "      background-color: #3B4455;\n",
              "      fill: #D2E3FC;\n",
              "    }\n",
              "\n",
              "    [theme=dark] .colab-df-convert:hover {\n",
              "      background-color: #434B5C;\n",
              "      box-shadow: 0px 1px 3px 1px rgba(0, 0, 0, 0.15);\n",
              "      filter: drop-shadow(0px 1px 2px rgba(0, 0, 0, 0.3));\n",
              "      fill: #FFFFFF;\n",
              "    }\n",
              "  </style>\n",
              "\n",
              "      <script>\n",
              "        const buttonEl =\n",
              "          document.querySelector('#df-37e09d8f-5026-4ed1-9c12-b8e1251d1641 button.colab-df-convert');\n",
              "        buttonEl.style.display =\n",
              "          google.colab.kernel.accessAllowed ? 'block' : 'none';\n",
              "\n",
              "        async function convertToInteractive(key) {\n",
              "          const element = document.querySelector('#df-37e09d8f-5026-4ed1-9c12-b8e1251d1641');\n",
              "          const dataTable =\n",
              "            await google.colab.kernel.invokeFunction('convertToInteractive',\n",
              "                                                     [key], {});\n",
              "          if (!dataTable) return;\n",
              "\n",
              "          const docLinkHtml = 'Like what you see? Visit the ' +\n",
              "            '<a target=\"_blank\" href=https://colab.research.google.com/notebooks/data_table.ipynb>data table notebook</a>'\n",
              "            + ' to learn more about interactive tables.';\n",
              "          element.innerHTML = '';\n",
              "          dataTable['output_type'] = 'display_data';\n",
              "          await google.colab.output.renderOutput(dataTable, element);\n",
              "          const docLink = document.createElement('div');\n",
              "          docLink.innerHTML = docLinkHtml;\n",
              "          element.appendChild(docLink);\n",
              "        }\n",
              "      </script>\n",
              "    </div>\n",
              "  </div>\n",
              "  "
            ]
          },
          "metadata": {},
          "execution_count": 10
        }
      ]
    },
    {
      "cell_type": "code",
      "source": [
        "# Contabilizando a quantidade de linhas e colunas e, visualizando o nome dos atributos\n",
        "test.shape, test.columns"
      ],
      "metadata": {
        "colab": {
          "base_uri": "https://localhost:8080/"
        },
        "id": "fdBvLqqF0OxC",
        "outputId": "2daeb071-2135-4734-f61b-020abb029c4a"
      },
      "execution_count": 11,
      "outputs": [
        {
          "output_type": "execute_result",
          "data": {
            "text/plain": [
              "((3000, 9),\n",
              " Index(['longitude', 'latitude', 'housing_median_age', 'total_rooms',\n",
              "        'total_bedrooms', 'population', 'households', 'median_income',\n",
              "        'median_house_value'],\n",
              "       dtype='object'))"
            ]
          },
          "metadata": {},
          "execution_count": 11
        }
      ]
    },
    {
      "cell_type": "code",
      "source": [
        "# Realizando a concatenação dos conjuntos de dados - treino e teste\n",
        "california_housing = pd.concat(\n",
        "    objs=[train, test],\n",
        "    ignore_index=True\n",
        ")\n",
        "\n",
        "# Visualizando as últimas observações\n",
        "california_housing.tail()"
      ],
      "metadata": {
        "colab": {
          "base_uri": "https://localhost:8080/",
          "height": 206
        },
        "id": "Qm9gWVoa0OtL",
        "outputId": "81aefdb5-b5d0-45cd-ea71-e5234b267976"
      },
      "execution_count": 12,
      "outputs": [
        {
          "output_type": "execute_result",
          "data": {
            "text/plain": [
              "       longitude  latitude  housing_median_age  total_rooms  total_bedrooms  \\\n",
              "19995    -119.86     34.42                23.0       1450.0           642.0   \n",
              "19996    -118.14     34.06                27.0       5257.0          1082.0   \n",
              "19997    -119.70     36.30                10.0        956.0           201.0   \n",
              "19998    -117.12     34.10                40.0         96.0            14.0   \n",
              "19999    -119.63     34.42                42.0       1765.0           263.0   \n",
              "\n",
              "       population  households  median_income  median_house_value  \n",
              "19995      1258.0       607.0         1.1790            225000.0  \n",
              "19996      3496.0      1036.0         3.3906            237200.0  \n",
              "19997       693.0       220.0         2.2895             62000.0  \n",
              "19998        46.0        14.0         3.2708            162500.0  \n",
              "19999       753.0       260.0         8.5608            500001.0  "
            ],
            "text/html": [
              "\n",
              "  <div id=\"df-5f9a7a67-ce01-473d-976f-58ba3cf1f228\">\n",
              "    <div class=\"colab-df-container\">\n",
              "      <div>\n",
              "<style scoped>\n",
              "    .dataframe tbody tr th:only-of-type {\n",
              "        vertical-align: middle;\n",
              "    }\n",
              "\n",
              "    .dataframe tbody tr th {\n",
              "        vertical-align: top;\n",
              "    }\n",
              "\n",
              "    .dataframe thead th {\n",
              "        text-align: right;\n",
              "    }\n",
              "</style>\n",
              "<table border=\"1\" class=\"dataframe\">\n",
              "  <thead>\n",
              "    <tr style=\"text-align: right;\">\n",
              "      <th></th>\n",
              "      <th>longitude</th>\n",
              "      <th>latitude</th>\n",
              "      <th>housing_median_age</th>\n",
              "      <th>total_rooms</th>\n",
              "      <th>total_bedrooms</th>\n",
              "      <th>population</th>\n",
              "      <th>households</th>\n",
              "      <th>median_income</th>\n",
              "      <th>median_house_value</th>\n",
              "    </tr>\n",
              "  </thead>\n",
              "  <tbody>\n",
              "    <tr>\n",
              "      <th>19995</th>\n",
              "      <td>-119.86</td>\n",
              "      <td>34.42</td>\n",
              "      <td>23.0</td>\n",
              "      <td>1450.0</td>\n",
              "      <td>642.0</td>\n",
              "      <td>1258.0</td>\n",
              "      <td>607.0</td>\n",
              "      <td>1.1790</td>\n",
              "      <td>225000.0</td>\n",
              "    </tr>\n",
              "    <tr>\n",
              "      <th>19996</th>\n",
              "      <td>-118.14</td>\n",
              "      <td>34.06</td>\n",
              "      <td>27.0</td>\n",
              "      <td>5257.0</td>\n",
              "      <td>1082.0</td>\n",
              "      <td>3496.0</td>\n",
              "      <td>1036.0</td>\n",
              "      <td>3.3906</td>\n",
              "      <td>237200.0</td>\n",
              "    </tr>\n",
              "    <tr>\n",
              "      <th>19997</th>\n",
              "      <td>-119.70</td>\n",
              "      <td>36.30</td>\n",
              "      <td>10.0</td>\n",
              "      <td>956.0</td>\n",
              "      <td>201.0</td>\n",
              "      <td>693.0</td>\n",
              "      <td>220.0</td>\n",
              "      <td>2.2895</td>\n",
              "      <td>62000.0</td>\n",
              "    </tr>\n",
              "    <tr>\n",
              "      <th>19998</th>\n",
              "      <td>-117.12</td>\n",
              "      <td>34.10</td>\n",
              "      <td>40.0</td>\n",
              "      <td>96.0</td>\n",
              "      <td>14.0</td>\n",
              "      <td>46.0</td>\n",
              "      <td>14.0</td>\n",
              "      <td>3.2708</td>\n",
              "      <td>162500.0</td>\n",
              "    </tr>\n",
              "    <tr>\n",
              "      <th>19999</th>\n",
              "      <td>-119.63</td>\n",
              "      <td>34.42</td>\n",
              "      <td>42.0</td>\n",
              "      <td>1765.0</td>\n",
              "      <td>263.0</td>\n",
              "      <td>753.0</td>\n",
              "      <td>260.0</td>\n",
              "      <td>8.5608</td>\n",
              "      <td>500001.0</td>\n",
              "    </tr>\n",
              "  </tbody>\n",
              "</table>\n",
              "</div>\n",
              "      <button class=\"colab-df-convert\" onclick=\"convertToInteractive('df-5f9a7a67-ce01-473d-976f-58ba3cf1f228')\"\n",
              "              title=\"Convert this dataframe to an interactive table.\"\n",
              "              style=\"display:none;\">\n",
              "        \n",
              "  <svg xmlns=\"http://www.w3.org/2000/svg\" height=\"24px\"viewBox=\"0 0 24 24\"\n",
              "       width=\"24px\">\n",
              "    <path d=\"M0 0h24v24H0V0z\" fill=\"none\"/>\n",
              "    <path d=\"M18.56 5.44l.94 2.06.94-2.06 2.06-.94-2.06-.94-.94-2.06-.94 2.06-2.06.94zm-11 1L8.5 8.5l.94-2.06 2.06-.94-2.06-.94L8.5 2.5l-.94 2.06-2.06.94zm10 10l.94 2.06.94-2.06 2.06-.94-2.06-.94-.94-2.06-.94 2.06-2.06.94z\"/><path d=\"M17.41 7.96l-1.37-1.37c-.4-.4-.92-.59-1.43-.59-.52 0-1.04.2-1.43.59L10.3 9.45l-7.72 7.72c-.78.78-.78 2.05 0 2.83L4 21.41c.39.39.9.59 1.41.59.51 0 1.02-.2 1.41-.59l7.78-7.78 2.81-2.81c.8-.78.8-2.07 0-2.86zM5.41 20L4 18.59l7.72-7.72 1.47 1.35L5.41 20z\"/>\n",
              "  </svg>\n",
              "      </button>\n",
              "      \n",
              "  <style>\n",
              "    .colab-df-container {\n",
              "      display:flex;\n",
              "      flex-wrap:wrap;\n",
              "      gap: 12px;\n",
              "    }\n",
              "\n",
              "    .colab-df-convert {\n",
              "      background-color: #E8F0FE;\n",
              "      border: none;\n",
              "      border-radius: 50%;\n",
              "      cursor: pointer;\n",
              "      display: none;\n",
              "      fill: #1967D2;\n",
              "      height: 32px;\n",
              "      padding: 0 0 0 0;\n",
              "      width: 32px;\n",
              "    }\n",
              "\n",
              "    .colab-df-convert:hover {\n",
              "      background-color: #E2EBFA;\n",
              "      box-shadow: 0px 1px 2px rgba(60, 64, 67, 0.3), 0px 1px 3px 1px rgba(60, 64, 67, 0.15);\n",
              "      fill: #174EA6;\n",
              "    }\n",
              "\n",
              "    [theme=dark] .colab-df-convert {\n",
              "      background-color: #3B4455;\n",
              "      fill: #D2E3FC;\n",
              "    }\n",
              "\n",
              "    [theme=dark] .colab-df-convert:hover {\n",
              "      background-color: #434B5C;\n",
              "      box-shadow: 0px 1px 3px 1px rgba(0, 0, 0, 0.15);\n",
              "      filter: drop-shadow(0px 1px 2px rgba(0, 0, 0, 0.3));\n",
              "      fill: #FFFFFF;\n",
              "    }\n",
              "  </style>\n",
              "\n",
              "      <script>\n",
              "        const buttonEl =\n",
              "          document.querySelector('#df-5f9a7a67-ce01-473d-976f-58ba3cf1f228 button.colab-df-convert');\n",
              "        buttonEl.style.display =\n",
              "          google.colab.kernel.accessAllowed ? 'block' : 'none';\n",
              "\n",
              "        async function convertToInteractive(key) {\n",
              "          const element = document.querySelector('#df-5f9a7a67-ce01-473d-976f-58ba3cf1f228');\n",
              "          const dataTable =\n",
              "            await google.colab.kernel.invokeFunction('convertToInteractive',\n",
              "                                                     [key], {});\n",
              "          if (!dataTable) return;\n",
              "\n",
              "          const docLinkHtml = 'Like what you see? Visit the ' +\n",
              "            '<a target=\"_blank\" href=https://colab.research.google.com/notebooks/data_table.ipynb>data table notebook</a>'\n",
              "            + ' to learn more about interactive tables.';\n",
              "          element.innerHTML = '';\n",
              "          dataTable['output_type'] = 'display_data';\n",
              "          await google.colab.output.renderOutput(dataTable, element);\n",
              "          const docLink = document.createElement('div');\n",
              "          docLink.innerHTML = docLinkHtml;\n",
              "          element.appendChild(docLink);\n",
              "        }\n",
              "      </script>\n",
              "    </div>\n",
              "  </div>\n",
              "  "
            ]
          },
          "metadata": {},
          "execution_count": 12
        }
      ]
    },
    {
      "cell_type": "code",
      "source": [
        "# Contabilizando a quantidade de linhas e colunas e, visualizando o nome dos atributos\n",
        "california_housing.shape, california_housing.columns"
      ],
      "metadata": {
        "colab": {
          "base_uri": "https://localhost:8080/"
        },
        "id": "TET6vPkl0Oqn",
        "outputId": "aa298faf-a098-4d5a-a24c-5bbd893a9ac0"
      },
      "execution_count": 13,
      "outputs": [
        {
          "output_type": "execute_result",
          "data": {
            "text/plain": [
              "((20000, 9),\n",
              " Index(['longitude', 'latitude', 'housing_median_age', 'total_rooms',\n",
              "        'total_bedrooms', 'population', 'households', 'median_income',\n",
              "        'median_house_value'],\n",
              "       dtype='object'))"
            ]
          },
          "metadata": {},
          "execution_count": 13
        }
      ]
    },
    {
      "cell_type": "code",
      "source": [
        "# Salvando o conjunto de dados final em um objeto do tipo \".csv\" com o nome de \"house\"\n",
        "california_housing.to_csv(path_or_buf='house.csv')"
      ],
      "metadata": {
        "id": "1x1twsuA0OnL"
      },
      "execution_count": 14,
      "outputs": []
    },
    {
      "cell_type": "code",
      "source": [
        "# Inspecionando o ambiente\n",
        "%ls"
      ],
      "metadata": {
        "colab": {
          "base_uri": "https://localhost:8080/"
        },
        "id": "K_fRy0P25AHK",
        "outputId": "462fc462-5d84-45c4-dadb-1e88fde71b3b"
      },
      "execution_count": 15,
      "outputs": [
        {
          "output_type": "stream",
          "name": "stdout",
          "text": [
            "house.csv     \u001b[0m\u001b[01;34mspark-3.1.2-bin-hadoop2.7\u001b[0m/\n",
            "\u001b[01;34msample_data\u001b[0m/  spark-3.1.2-bin-hadoop2.7.tgz\n"
          ]
        }
      ]
    },
    {
      "cell_type": "code",
      "source": [
        "# Visualizando as primeiras observações do conjunto de dados \"house.csv\"\n",
        "!head house.csv"
      ],
      "metadata": {
        "colab": {
          "base_uri": "https://localhost:8080/"
        },
        "id": "_vAGxVbw0Ok0",
        "outputId": "c7bb41ef-e08a-42cc-a7ba-3f31851b1049"
      },
      "execution_count": 16,
      "outputs": [
        {
          "output_type": "stream",
          "name": "stdout",
          "text": [
            ",longitude,latitude,housing_median_age,total_rooms,total_bedrooms,population,households,median_income,median_house_value\n",
            "0,-114.31,34.19,15.0,5612.0,1283.0,1015.0,472.0,1.4936,66900.0\n",
            "1,-114.47,34.4,19.0,7650.0,1901.0,1129.0,463.0,1.82,80100.0\n",
            "2,-114.56,33.69,17.0,720.0,174.0,333.0,117.0,1.6509,85700.0\n",
            "3,-114.57,33.64,14.0,1501.0,337.0,515.0,226.0,3.1917,73400.0\n",
            "4,-114.57,33.57,20.0,1454.0,326.0,624.0,262.0,1.925,65500.0\n",
            "5,-114.58,33.63,29.0,1387.0,236.0,671.0,239.0,3.3438,74000.0\n",
            "6,-114.58,33.61,25.0,2907.0,680.0,1841.0,633.0,2.6768,82400.0\n",
            "7,-114.59,34.83,41.0,812.0,168.0,375.0,158.0,1.7083,48500.0\n",
            "8,-114.59,33.61,34.0,4789.0,1175.0,3134.0,1056.0,2.1782,58400.0\n"
          ]
        }
      ]
    },
    {
      "cell_type": "code",
      "source": [
        "# Carregando o conjunto de dados em um objeto do tipo data frame spark\n",
        "df = spark.read.csv(path='house.csv', header=True, inferSchema=True, sep=',')"
      ],
      "metadata": {
        "id": "dquHo_4W0Ohc"
      },
      "execution_count": 17,
      "outputs": []
    },
    {
      "cell_type": "code",
      "source": [
        "# Visualizando o tipo do objeto \"df\"\n",
        "type(df)"
      ],
      "metadata": {
        "colab": {
          "base_uri": "https://localhost:8080/"
        },
        "id": "wVaVmz5O5idY",
        "outputId": "fc629262-fa7e-4750-95d0-c750f1cf8959"
      },
      "execution_count": 18,
      "outputs": [
        {
          "output_type": "execute_result",
          "data": {
            "text/plain": [
              "pyspark.sql.dataframe.DataFrame"
            ]
          },
          "metadata": {},
          "execution_count": 18
        }
      ]
    },
    {
      "cell_type": "markdown",
      "source": [
        "Agora que você tem seu DataFrame df, você pode inspecioná-lo com os seguintes métodos:\n",
        "- `first()`\n",
        "- `take()`\n",
        "- também com o `head()` e \n",
        "- `show()`:"
      ],
      "metadata": {
        "id": "a1PYTl9FiJ2S"
      }
    },
    {
      "cell_type": "code",
      "source": [
        "# Visualizando as primeiras observações\n",
        "df.show()"
      ],
      "metadata": {
        "colab": {
          "base_uri": "https://localhost:8080/"
        },
        "id": "g-kOFOSY0Of2",
        "outputId": "c75ea36d-7a5b-4b19-b046-d4e40ce50c67"
      },
      "execution_count": 19,
      "outputs": [
        {
          "output_type": "stream",
          "name": "stdout",
          "text": [
            "+---+---------+--------+------------------+-----------+--------------+----------+----------+-------------+------------------+\n",
            "|_c0|longitude|latitude|housing_median_age|total_rooms|total_bedrooms|population|households|median_income|median_house_value|\n",
            "+---+---------+--------+------------------+-----------+--------------+----------+----------+-------------+------------------+\n",
            "|  0|  -114.31|   34.19|              15.0|     5612.0|        1283.0|    1015.0|     472.0|       1.4936|           66900.0|\n",
            "|  1|  -114.47|    34.4|              19.0|     7650.0|        1901.0|    1129.0|     463.0|         1.82|           80100.0|\n",
            "|  2|  -114.56|   33.69|              17.0|      720.0|         174.0|     333.0|     117.0|       1.6509|           85700.0|\n",
            "|  3|  -114.57|   33.64|              14.0|     1501.0|         337.0|     515.0|     226.0|       3.1917|           73400.0|\n",
            "|  4|  -114.57|   33.57|              20.0|     1454.0|         326.0|     624.0|     262.0|        1.925|           65500.0|\n",
            "|  5|  -114.58|   33.63|              29.0|     1387.0|         236.0|     671.0|     239.0|       3.3438|           74000.0|\n",
            "|  6|  -114.58|   33.61|              25.0|     2907.0|         680.0|    1841.0|     633.0|       2.6768|           82400.0|\n",
            "|  7|  -114.59|   34.83|              41.0|      812.0|         168.0|     375.0|     158.0|       1.7083|           48500.0|\n",
            "|  8|  -114.59|   33.61|              34.0|     4789.0|        1175.0|    3134.0|    1056.0|       2.1782|           58400.0|\n",
            "|  9|   -114.6|   34.83|              46.0|     1497.0|         309.0|     787.0|     271.0|       2.1908|           48100.0|\n",
            "| 10|   -114.6|   33.62|              16.0|     3741.0|         801.0|    2434.0|     824.0|       2.6797|           86500.0|\n",
            "| 11|   -114.6|    33.6|              21.0|     1988.0|         483.0|    1182.0|     437.0|        1.625|           62000.0|\n",
            "| 12|  -114.61|   34.84|              48.0|     1291.0|         248.0|     580.0|     211.0|       2.1571|           48600.0|\n",
            "| 13|  -114.61|   34.83|              31.0|     2478.0|         464.0|    1346.0|     479.0|        3.212|           70400.0|\n",
            "| 14|  -114.63|   32.76|              15.0|     1448.0|         378.0|     949.0|     300.0|       0.8585|           45000.0|\n",
            "| 15|  -114.65|   34.89|              17.0|     2556.0|         587.0|    1005.0|     401.0|       1.6991|           69100.0|\n",
            "| 16|  -114.65|    33.6|              28.0|     1678.0|         322.0|     666.0|     256.0|       2.9653|           94900.0|\n",
            "| 17|  -114.65|   32.79|              21.0|       44.0|          33.0|      64.0|      27.0|       0.8571|           25000.0|\n",
            "| 18|  -114.66|   32.74|              17.0|     1388.0|         386.0|     775.0|     320.0|       1.2049|           44000.0|\n",
            "| 19|  -114.67|   33.92|              17.0|       97.0|          24.0|      29.0|      15.0|       1.2656|           27500.0|\n",
            "+---+---------+--------+------------------+-----------+--------------+----------+----------+-------------+------------------+\n",
            "only showing top 20 rows\n",
            "\n"
          ]
        }
      ]
    },
    {
      "cell_type": "code",
      "source": [
        "# Visualizando o tipo de dado em cada atributo\n",
        "df.printSchema()"
      ],
      "metadata": {
        "colab": {
          "base_uri": "https://localhost:8080/"
        },
        "id": "qyX-qd4G0Ocg",
        "outputId": "c9d9b750-6097-4a13-fd64-35611451bd71"
      },
      "execution_count": 20,
      "outputs": [
        {
          "output_type": "stream",
          "name": "stdout",
          "text": [
            "root\n",
            " |-- _c0: integer (nullable = true)\n",
            " |-- longitude: double (nullable = true)\n",
            " |-- latitude: double (nullable = true)\n",
            " |-- housing_median_age: double (nullable = true)\n",
            " |-- total_rooms: double (nullable = true)\n",
            " |-- total_bedrooms: double (nullable = true)\n",
            " |-- population: double (nullable = true)\n",
            " |-- households: double (nullable = true)\n",
            " |-- median_income: double (nullable = true)\n",
            " |-- median_house_value: double (nullable = true)\n",
            "\n"
          ]
        }
      ]
    },
    {
      "cell_type": "code",
      "source": [
        "# Com método \".dtypes\" também é possível visualizar o tipo de dado nos atributos\n",
        "df.dtypes"
      ],
      "metadata": {
        "colab": {
          "base_uri": "https://localhost:8080/"
        },
        "id": "a5yR01eB0ObL",
        "outputId": "9589a9b4-7372-4141-c297-e4b32b305d4f"
      },
      "execution_count": 21,
      "outputs": [
        {
          "output_type": "execute_result",
          "data": {
            "text/plain": [
              "[('_c0', 'int'),\n",
              " ('longitude', 'double'),\n",
              " ('latitude', 'double'),\n",
              " ('housing_median_age', 'double'),\n",
              " ('total_rooms', 'double'),\n",
              " ('total_bedrooms', 'double'),\n",
              " ('population', 'double'),\n",
              " ('households', 'double'),\n",
              " ('median_income', 'double'),\n",
              " ('median_house_value', 'double')]"
            ]
          },
          "metadata": {},
          "execution_count": 21
        }
      ]
    },
    {
      "cell_type": "code",
      "source": [
        "# Visualizando o nome dos atributos\n",
        "df.columns"
      ],
      "metadata": {
        "colab": {
          "base_uri": "https://localhost:8080/"
        },
        "id": "Qfx6JOsni402",
        "outputId": "4c976735-aab1-47dc-d275-7547f2a397b9"
      },
      "execution_count": 23,
      "outputs": [
        {
          "output_type": "execute_result",
          "data": {
            "text/plain": [
              "['_c0',\n",
              " 'longitude',\n",
              " 'latitude',\n",
              " 'housing_median_age',\n",
              " 'total_rooms',\n",
              " 'total_bedrooms',\n",
              " 'population',\n",
              " 'households',\n",
              " 'median_income',\n",
              " 'median_house_value']"
            ]
          },
          "metadata": {},
          "execution_count": 23
        }
      ]
    },
    {
      "cell_type": "code",
      "source": [
        "# Visualizando todas as colunas menos a primeira\n",
        "df.columns[1:]"
      ],
      "metadata": {
        "colab": {
          "base_uri": "https://localhost:8080/"
        },
        "id": "78APPrzF7SG4",
        "outputId": "e477e135-85ce-46d3-c551-ec38e4876df3"
      },
      "execution_count": 24,
      "outputs": [
        {
          "output_type": "execute_result",
          "data": {
            "text/plain": [
              "['longitude',\n",
              " 'latitude',\n",
              " 'housing_median_age',\n",
              " 'total_rooms',\n",
              " 'total_bedrooms',\n",
              " 'population',\n",
              " 'households',\n",
              " 'median_income',\n",
              " 'median_house_value']"
            ]
          },
          "metadata": {},
          "execution_count": 24
        }
      ]
    },
    {
      "cell_type": "code",
      "source": [
        "# Instanciando as colunas de interesse\n",
        "cols = df.columns[1:]\n",
        "\n",
        "cols"
      ],
      "metadata": {
        "colab": {
          "base_uri": "https://localhost:8080/"
        },
        "id": "F9HkKmrn7iZV",
        "outputId": "53bae56a-4a28-48ef-a7ca-a5da96b0ecd9"
      },
      "execution_count": 25,
      "outputs": [
        {
          "output_type": "execute_result",
          "data": {
            "text/plain": [
              "['longitude',\n",
              " 'latitude',\n",
              " 'housing_median_age',\n",
              " 'total_rooms',\n",
              " 'total_bedrooms',\n",
              " 'population',\n",
              " 'households',\n",
              " 'median_income',\n",
              " 'median_house_value']"
            ]
          },
          "metadata": {},
          "execution_count": 25
        }
      ]
    },
    {
      "cell_type": "code",
      "source": [
        "# Realizando a seleção das colunas de interesse instanciadas no objeto \"cols\"\n",
        "df = df.select(cols)\n",
        "\n",
        "# Visualizando as primeiras observações do conjunto de dados após a seleção\n",
        "df.show()"
      ],
      "metadata": {
        "colab": {
          "base_uri": "https://localhost:8080/"
        },
        "id": "Dy8OYwuu7Oel",
        "outputId": "3167ac14-a2ea-4bf2-9597-4a53bc0e9287"
      },
      "execution_count": 26,
      "outputs": [
        {
          "output_type": "stream",
          "name": "stdout",
          "text": [
            "+---------+--------+------------------+-----------+--------------+----------+----------+-------------+------------------+\n",
            "|longitude|latitude|housing_median_age|total_rooms|total_bedrooms|population|households|median_income|median_house_value|\n",
            "+---------+--------+------------------+-----------+--------------+----------+----------+-------------+------------------+\n",
            "|  -114.31|   34.19|              15.0|     5612.0|        1283.0|    1015.0|     472.0|       1.4936|           66900.0|\n",
            "|  -114.47|    34.4|              19.0|     7650.0|        1901.0|    1129.0|     463.0|         1.82|           80100.0|\n",
            "|  -114.56|   33.69|              17.0|      720.0|         174.0|     333.0|     117.0|       1.6509|           85700.0|\n",
            "|  -114.57|   33.64|              14.0|     1501.0|         337.0|     515.0|     226.0|       3.1917|           73400.0|\n",
            "|  -114.57|   33.57|              20.0|     1454.0|         326.0|     624.0|     262.0|        1.925|           65500.0|\n",
            "|  -114.58|   33.63|              29.0|     1387.0|         236.0|     671.0|     239.0|       3.3438|           74000.0|\n",
            "|  -114.58|   33.61|              25.0|     2907.0|         680.0|    1841.0|     633.0|       2.6768|           82400.0|\n",
            "|  -114.59|   34.83|              41.0|      812.0|         168.0|     375.0|     158.0|       1.7083|           48500.0|\n",
            "|  -114.59|   33.61|              34.0|     4789.0|        1175.0|    3134.0|    1056.0|       2.1782|           58400.0|\n",
            "|   -114.6|   34.83|              46.0|     1497.0|         309.0|     787.0|     271.0|       2.1908|           48100.0|\n",
            "|   -114.6|   33.62|              16.0|     3741.0|         801.0|    2434.0|     824.0|       2.6797|           86500.0|\n",
            "|   -114.6|    33.6|              21.0|     1988.0|         483.0|    1182.0|     437.0|        1.625|           62000.0|\n",
            "|  -114.61|   34.84|              48.0|     1291.0|         248.0|     580.0|     211.0|       2.1571|           48600.0|\n",
            "|  -114.61|   34.83|              31.0|     2478.0|         464.0|    1346.0|     479.0|        3.212|           70400.0|\n",
            "|  -114.63|   32.76|              15.0|     1448.0|         378.0|     949.0|     300.0|       0.8585|           45000.0|\n",
            "|  -114.65|   34.89|              17.0|     2556.0|         587.0|    1005.0|     401.0|       1.6991|           69100.0|\n",
            "|  -114.65|    33.6|              28.0|     1678.0|         322.0|     666.0|     256.0|       2.9653|           94900.0|\n",
            "|  -114.65|   32.79|              21.0|       44.0|          33.0|      64.0|      27.0|       0.8571|           25000.0|\n",
            "|  -114.66|   32.74|              17.0|     1388.0|         386.0|     775.0|     320.0|       1.2049|           44000.0|\n",
            "|  -114.67|   33.92|              17.0|       97.0|          24.0|      29.0|      15.0|       1.2656|           27500.0|\n",
            "+---------+--------+------------------+-----------+--------------+----------+----------+-------------+------------------+\n",
            "only showing top 20 rows\n",
            "\n"
          ]
        }
      ]
    },
    {
      "cell_type": "code",
      "source": [
        "# Contabilizando a quantidade de linhas e colunas e, o nome dos atributos\n",
        "df.count(), len(df.columns)"
      ],
      "metadata": {
        "colab": {
          "base_uri": "https://localhost:8080/"
        },
        "id": "rXM5hNaw0OX2",
        "outputId": "0d7d8176-10ea-4187-c36b-e3716658ec4c"
      },
      "execution_count": 27,
      "outputs": [
        {
          "output_type": "execute_result",
          "data": {
            "text/plain": [
              "(20000, 9)"
            ]
          },
          "metadata": {},
          "execution_count": 27
        }
      ]
    },
    {
      "cell_type": "code",
      "source": [
        "# Definindo uma função para visualizar a dimensão de um conjunto de dados\n",
        "def dataframe_dim(data: object):\n",
        "    num_rows = data.count()\n",
        "    num_cols = len(data.columns)\n",
        "    return num_rows, num_cols"
      ],
      "metadata": {
        "id": "_SJQKcH90OWx"
      },
      "execution_count": 28,
      "outputs": []
    },
    {
      "cell_type": "code",
      "source": [
        "# Aplicando a função \"dataframe_dim\" no objeto \"df\"\n",
        "dataframe_dim(data=df)"
      ],
      "metadata": {
        "colab": {
          "base_uri": "https://localhost:8080/"
        },
        "id": "B2PlV4XO0ORt",
        "outputId": "3fc23624-6d65-43c7-f386-2389231ba3fc"
      },
      "execution_count": 29,
      "outputs": [
        {
          "output_type": "execute_result",
          "data": {
            "text/plain": [
              "(20000, 9)"
            ]
          },
          "metadata": {},
          "execution_count": 29
        }
      ]
    },
    {
      "cell_type": "code",
      "source": [
        "# Selecionando as colunas \"population\" e \"total_bedrooms\" e, visualizando as primeiras observações\n",
        "df.select('population', 'total_bedrooms').show(n=10)"
      ],
      "metadata": {
        "colab": {
          "base_uri": "https://localhost:8080/"
        },
        "id": "HjYZOTdv0OPt",
        "outputId": "964e262e-df07-4c04-89c5-bbfa71fad179"
      },
      "execution_count": 30,
      "outputs": [
        {
          "output_type": "stream",
          "name": "stdout",
          "text": [
            "+----------+--------------+\n",
            "|population|total_bedrooms|\n",
            "+----------+--------------+\n",
            "|    1015.0|        1283.0|\n",
            "|    1129.0|        1901.0|\n",
            "|     333.0|         174.0|\n",
            "|     515.0|         337.0|\n",
            "|     624.0|         326.0|\n",
            "|     671.0|         236.0|\n",
            "|    1841.0|         680.0|\n",
            "|     375.0|         168.0|\n",
            "|    3134.0|        1175.0|\n",
            "|     787.0|         309.0|\n",
            "+----------+--------------+\n",
            "only showing top 10 rows\n",
            "\n"
          ]
        }
      ]
    },
    {
      "cell_type": "code",
      "source": [
        "# Realizando o agrupamento dos dados da coluna \"housing_median_age\" com a função \".gropuBy()\"\n",
        "# E, posteriormente contabilizando e ordenando os dados de exibição\n",
        "# De maior idade média para a menor com o argumento \"ascending=False\"\n",
        "df.groupBy('housing_median_age').count() \\\n",
        "    .sort('housing_median_age', ascending=False).show()"
      ],
      "metadata": {
        "colab": {
          "base_uri": "https://localhost:8080/"
        },
        "id": "w7-DdJPK0OMX",
        "outputId": "3f346989-ab2c-45d9-c1f6-5ef08fa4b17d"
      },
      "execution_count": 33,
      "outputs": [
        {
          "output_type": "stream",
          "name": "stdout",
          "text": [
            "+------------------+-----+\n",
            "|housing_median_age|count|\n",
            "+------------------+-----+\n",
            "|              52.0| 1225|\n",
            "|              51.0|   43|\n",
            "|              50.0|  128|\n",
            "|              49.0|  132|\n",
            "|              48.0|  169|\n",
            "|              47.0|  197|\n",
            "|              46.0|  237|\n",
            "|              45.0|  286|\n",
            "|              44.0|  347|\n",
            "|              43.0|  342|\n",
            "|              42.0|  359|\n",
            "|              41.0|  288|\n",
            "|              40.0|  292|\n",
            "|              39.0|  357|\n",
            "|              38.0|  382|\n",
            "|              37.0|  525|\n",
            "|              36.0|  830|\n",
            "|              35.0|  810|\n",
            "|              34.0|  669|\n",
            "|              33.0|  598|\n",
            "+------------------+-----+\n",
            "only showing top 20 rows\n",
            "\n"
          ]
        }
      ]
    },
    {
      "cell_type": "code",
      "source": [
        "# Visualizando a estatística descritiva do conjunto de dados\n",
        "df.describe().show()"
      ],
      "metadata": {
        "colab": {
          "base_uri": "https://localhost:8080/"
        },
        "id": "q0DgAKb20OKA",
        "outputId": "a9266226-dd90-47d6-d6eb-0acfa6953b54"
      },
      "execution_count": 34,
      "outputs": [
        {
          "output_type": "stream",
          "name": "stdout",
          "text": [
            "+-------+-------------------+-----------------+------------------+------------------+-----------------+------------------+-----------------+------------------+------------------+\n",
            "|summary|          longitude|         latitude|housing_median_age|       total_rooms|   total_bedrooms|        population|       households|     median_income|median_house_value|\n",
            "+-------+-------------------+-----------------+------------------+------------------+-----------------+------------------+-----------------+------------------+------------------+\n",
            "|  count|              20000|            20000|             20000|             20000|            20000|             20000|            20000|             20000|             20000|\n",
            "|   mean|-119.56617200000018|35.62674950000045|          28.62775|        2637.05155|         537.9918|        1425.55765|        499.52545|3.8721321550000423|      207082.71675|\n",
            "| stddev|  2.003608838779282|2.136140953719693|12.582229355812826|2176.3147574716336|420.6311188674329|1131.0484868079045|381.7295174904919|1.9003560479896953|115557.05585616284|\n",
            "|    min|            -124.35|            32.54|               1.0|               2.0|              1.0|               3.0|              1.0|            0.4999|           14999.0|\n",
            "|    max|            -114.31|            41.95|              52.0|           37937.0|           6445.0|           35682.0|           6082.0|           15.0001|          500001.0|\n",
            "+-------+-------------------+-----------------+------------------+------------------+-----------------+------------------+-----------------+------------------+------------------+\n",
            "\n"
          ]
        }
      ]
    },
    {
      "cell_type": "markdown",
      "source": [
        "> Observe os valores mínimo e máximo de todos os atributos (numéricos). Você vê que vários atributos têm uma ampla gama de valores: você precisará normalizar seu conjunto de dados."
      ],
      "metadata": {
        "id": "uIgthtDakTN-"
      }
    },
    {
      "cell_type": "markdown",
      "source": [
        "### **Pré-processamento de dados**"
      ],
      "metadata": {
        "id": "rR9prA_yUibi"
      }
    },
    {
      "cell_type": "markdown",
      "source": [
        "Com todas essas informações coletadas em sua pequena análise exploratória de dados, você sabe o suficiente para pré-processar seus dados para alimentá-los ao modelo.\n",
        "\n",
        "- Você não deve se preocupar com valores ausentes; todos os valores zero foram excluídos do conjunto de dados.\n",
        "- Você provavelmente deve padronizar seus dados, pois você viu que o intervalo de valores mínimos e máximos é bastante grande.\n",
        "- Existem possivelmente alguns atributos adicionais que você pode adicionar, como um recurso que registra o número de quartos por cômodo ou os cômodos por residência.\n",
        "- Sua variável dependente também é bastante grande; Para facilitar sua vida, você terá que ajustar um pouco os valores."
      ],
      "metadata": {
        "id": "oez1rhGmUoE0"
      }
    },
    {
      "cell_type": "markdown",
      "source": [
        "**Pré-processando os valores-alvo**\n",
        "<br>\n",
        "\n",
        "Primeiro, vamos começar com `median_house_value`, sua variável dependente. Para facilitar seu trabalho com os valores-alvo, você expressará os valores das casas em unidades de 100.000. Isso significa que um alvo como 452600.000000 deve se tornar 4.526:"
      ],
      "metadata": {
        "id": "e9LzvxOYVJ9y"
      }
    },
    {
      "cell_type": "code",
      "source": [
        "# Importando o modulo necessário para aplicar a manipulação do atributo de interesse\n",
        "from pyspark.sql.functions import col"
      ],
      "metadata": {
        "id": "RLgpVUd80OGo"
      },
      "execution_count": 35,
      "outputs": []
    },
    {
      "cell_type": "code",
      "source": [
        "# Ajustando os valores da coluna \"median_house_value\"\n",
        "df = df.withColumn('median_house_value', \n",
        "                   col('median_house_value') / 100_000)"
      ],
      "metadata": {
        "id": "CFNl31Ye7FKK"
      },
      "execution_count": 36,
      "outputs": []
    },
    {
      "cell_type": "code",
      "source": [
        "# Com a função \".take()\", visualizando as 5 primeiras linhas\n",
        "df.take(5)"
      ],
      "metadata": {
        "colab": {
          "base_uri": "https://localhost:8080/"
        },
        "id": "cP27uDX77FI7",
        "outputId": "52df3195-d924-4557-d08c-a6757ef74163"
      },
      "execution_count": 38,
      "outputs": [
        {
          "output_type": "execute_result",
          "data": {
            "text/plain": [
              "[Row(longitude=-114.31, latitude=34.19, housing_median_age=15.0, total_rooms=5612.0, total_bedrooms=1283.0, population=1015.0, households=472.0, median_income=1.4936, median_house_value=0.669),\n",
              " Row(longitude=-114.47, latitude=34.4, housing_median_age=19.0, total_rooms=7650.0, total_bedrooms=1901.0, population=1129.0, households=463.0, median_income=1.82, median_house_value=0.801),\n",
              " Row(longitude=-114.56, latitude=33.69, housing_median_age=17.0, total_rooms=720.0, total_bedrooms=174.0, population=333.0, households=117.0, median_income=1.6509, median_house_value=0.857),\n",
              " Row(longitude=-114.57, latitude=33.64, housing_median_age=14.0, total_rooms=1501.0, total_bedrooms=337.0, population=515.0, households=226.0, median_income=3.1917, median_house_value=0.734),\n",
              " Row(longitude=-114.57, latitude=33.57, housing_median_age=20.0, total_rooms=1454.0, total_bedrooms=326.0, population=624.0, households=262.0, median_income=1.925, median_house_value=0.655)]"
            ]
          },
          "metadata": {},
          "execution_count": 38
        }
      ]
    },
    {
      "cell_type": "code",
      "source": [
        "# Visualizando a estatística descritiva somente do atributo alvo após sua normalização\n",
        "df.select('median_house_value').describe().show()"
      ],
      "metadata": {
        "colab": {
          "base_uri": "https://localhost:8080/"
        },
        "id": "f-3itqoa7FFN",
        "outputId": "bb1ea01e-f1ce-4292-9a29-27c2ab289ad3"
      },
      "execution_count": 40,
      "outputs": [
        {
          "output_type": "stream",
          "name": "stdout",
          "text": [
            "+-------+------------------+\n",
            "|summary|median_house_value|\n",
            "+-------+------------------+\n",
            "|  count|             20000|\n",
            "|   mean|  2.07082716750003|\n",
            "| stddev| 1.155570558561624|\n",
            "|    min|           0.14999|\n",
            "|    max|           5.00001|\n",
            "+-------+------------------+\n",
            "\n"
          ]
        }
      ]
    },
    {
      "cell_type": "markdown",
      "source": [
        "**Engenharia de recursos**\n",
        "\n",
        "<br>\n",
        "Agora que você ajustou os valores em \"median_house_value, também pode adicionar as variáveis ​​adicionais. Você adicionará as seguintes colunas ao conjunto de dados:\n",
        "\n",
        "- Cômodos por domicílio que se refere ao número de cômodos dos domicílios por grupo de quarteirões;\n",
        "- População por domicílio , que basicamente dá uma indicação de quantas pessoas moram em domicílios por grupo de quarteirão, e\n",
        "- Quartos por cômodo, o que lhe dará uma ideia de quantos cômodos são quartos por grupo de quarteirões.\n",
        "\n",
        "Ao trabalhar com DataFrames, você pode usar melhor o método `select()` para selecionar as colunas com as quais trabalhará, ou seja **total_rooms**, **households**, e **population**. Além disso, você deve indicar que está trabalhando com colunas adicionando a função `col()` ao seu código. Caso contrário, você não poderá fazer operações elementares como a divisão que você tem em mente para essas três variáveis."
      ],
      "metadata": {
        "id": "T99FB7c0lMuf"
      }
    },
    {
      "cell_type": "code",
      "source": [
        "# Divide \"total_rooms\" por \"households\"\n",
        "roomsPerHousehold = df.select(col('total_rooms') / col('households'))\n",
        "\n",
        "roomsPerHousehold.show()"
      ],
      "metadata": {
        "colab": {
          "base_uri": "https://localhost:8080/"
        },
        "id": "95TVCKPxF8q_",
        "outputId": "80562fc4-76b1-463a-a365-1e83a4ebc6fc"
      },
      "execution_count": 41,
      "outputs": [
        {
          "output_type": "stream",
          "name": "stdout",
          "text": [
            "+--------------------------+\n",
            "|(total_rooms / households)|\n",
            "+--------------------------+\n",
            "|        11.889830508474576|\n",
            "|         16.52267818574514|\n",
            "|         6.153846153846154|\n",
            "|        6.6415929203539825|\n",
            "|         5.549618320610687|\n",
            "|         5.803347280334728|\n",
            "|         4.592417061611374|\n",
            "|         5.139240506329114|\n",
            "|         4.535037878787879|\n",
            "|         5.523985239852398|\n",
            "|         4.540048543689321|\n",
            "|         4.549199084668192|\n",
            "|         6.118483412322274|\n",
            "|        5.1732776617954075|\n",
            "|         4.826666666666667|\n",
            "|        6.3740648379052365|\n",
            "|                 6.5546875|\n",
            "|        1.6296296296296295|\n",
            "|                    4.3375|\n",
            "|         6.466666666666667|\n",
            "+--------------------------+\n",
            "only showing top 20 rows\n",
            "\n"
          ]
        }
      ]
    },
    {
      "cell_type": "code",
      "source": [
        "# Divide \"population\" por \"households\"\n",
        "populationPerHousehold = df.select(col('population') / col('households'))\n",
        "\n",
        "populationPerHousehold.show()"
      ],
      "metadata": {
        "colab": {
          "base_uri": "https://localhost:8080/"
        },
        "id": "tUWqZ-s7GCtP",
        "outputId": "64f7cb93-a793-4e68-bbc8-ece14aafba44"
      },
      "execution_count": 42,
      "outputs": [
        {
          "output_type": "stream",
          "name": "stdout",
          "text": [
            "+-------------------------+\n",
            "|(population / households)|\n",
            "+-------------------------+\n",
            "|       2.1504237288135593|\n",
            "|       2.4384449244060473|\n",
            "|       2.8461538461538463|\n",
            "|       2.2787610619469025|\n",
            "|        2.381679389312977|\n",
            "|        2.807531380753138|\n",
            "|       2.9083728278041074|\n",
            "|       2.3734177215189876|\n",
            "|       2.9678030303030303|\n",
            "|        2.904059040590406|\n",
            "|        2.953883495145631|\n",
            "|       2.7048054919908466|\n",
            "|        2.748815165876777|\n",
            "|       2.8100208768267225|\n",
            "|       3.1633333333333336|\n",
            "|        2.506234413965087|\n",
            "|                2.6015625|\n",
            "|       2.3703703703703702|\n",
            "|                 2.421875|\n",
            "|       1.9333333333333333|\n",
            "+-------------------------+\n",
            "only showing top 20 rows\n",
            "\n"
          ]
        }
      ]
    },
    {
      "cell_type": "code",
      "source": [
        "# Divide \"total_bedrooms\" por \"total_rooms\"\n",
        "bedroomsPerRoom = df.select(col('total_bedrooms') / col('total_rooms'))\n",
        "\n",
        "bedroomsPerRoom.show()"
      ],
      "metadata": {
        "colab": {
          "base_uri": "https://localhost:8080/"
        },
        "id": "HvGeVXZo7FD7",
        "outputId": "a39e78f4-c8a4-4b18-c567-7d09198ff52f"
      },
      "execution_count": 43,
      "outputs": [
        {
          "output_type": "stream",
          "name": "stdout",
          "text": [
            "+------------------------------+\n",
            "|(total_bedrooms / total_rooms)|\n",
            "+------------------------------+\n",
            "|           0.22861724875267284|\n",
            "|           0.24849673202614378|\n",
            "|           0.24166666666666667|\n",
            "|           0.22451698867421718|\n",
            "|           0.22420907840440166|\n",
            "|           0.17015140591204037|\n",
            "|           0.23391812865497075|\n",
            "|           0.20689655172413793|\n",
            "|           0.24535393610357067|\n",
            "|           0.20641282565130262|\n",
            "|            0.2141138732959102|\n",
            "|           0.24295774647887325|\n",
            "|           0.19209914794732766|\n",
            "|           0.18724778046811946|\n",
            "|            0.2610497237569061|\n",
            "|           0.22965571205007826|\n",
            "|           0.19189511323003575|\n",
            "|                          0.75|\n",
            "|            0.2780979827089337|\n",
            "|           0.24742268041237114|\n",
            "+------------------------------+\n",
            "only showing top 20 rows\n",
            "\n"
          ]
        }
      ]
    },
    {
      "cell_type": "code",
      "source": [
        "# Adicionando as colunas criadas ao data frame\n",
        "df = df.withColumn('roomsPerHousehold', col('total_rooms') / col('households')) \\\n",
        "    .withColumn('populationPerHousehold', col('population') / col('households')) \\\n",
        "    .withColumn('bedroomsPerRoom', col('total_bedrooms') / col('total_rooms')) "
      ],
      "metadata": {
        "id": "SJgtcQPo7FAW"
      },
      "execution_count": 44,
      "outputs": []
    },
    {
      "cell_type": "code",
      "source": [
        "# Visualizando a primeira linha\n",
        "df.first()"
      ],
      "metadata": {
        "colab": {
          "base_uri": "https://localhost:8080/"
        },
        "id": "ce7WWuMC7E-4",
        "outputId": "6586429e-80fb-4e69-9245-bad85a56e871"
      },
      "execution_count": 45,
      "outputs": [
        {
          "output_type": "execute_result",
          "data": {
            "text/plain": [
              "Row(longitude=-114.31, latitude=34.19, housing_median_age=15.0, total_rooms=5612.0, total_bedrooms=1283.0, population=1015.0, households=472.0, median_income=1.4936, median_house_value=0.669, roomsPerHousehold=11.889830508474576, populationPerHousehold=2.1504237288135593, bedroomsPerRoom=0.22861724875267284)"
            ]
          },
          "metadata": {},
          "execution_count": 45
        }
      ]
    },
    {
      "cell_type": "code",
      "source": [
        "# Visualizando a primeira linha e somente os atributos criados\n",
        "df.select('roomsPerHousehold', \n",
        "          'populationPerHousehold',\n",
        "          'bedroomsPerRoom').first()"
      ],
      "metadata": {
        "colab": {
          "base_uri": "https://localhost:8080/"
        },
        "id": "-zwDQ3mymis9",
        "outputId": "6b4c05d5-3324-4cd4-bea0-23b4ed0b354c"
      },
      "execution_count": 47,
      "outputs": [
        {
          "output_type": "execute_result",
          "data": {
            "text/plain": [
              "Row(roomsPerHousehold=11.889830508474576, populationPerHousehold=2.1504237288135593, bedroomsPerRoom=0.22861724875267284)"
            ]
          },
          "metadata": {},
          "execution_count": 47
        }
      ]
    },
    {
      "cell_type": "markdown",
      "source": [
        "> Você vê que, para a primeira linha, há cerca de ~ 11,9 cômodos por domicílio, os domicílios no grupo de quarteirões consistem em cerca de ~2,1 pessoas e a quantidade de quartos é bastante baixa com ~ 0,2."
      ],
      "metadata": {
        "id": "X6dHVWgJmb8u"
      }
    },
    {
      "cell_type": "code",
      "source": [
        "# Visualizando o nome das colunas\n",
        "df.columns"
      ],
      "metadata": {
        "colab": {
          "base_uri": "https://localhost:8080/"
        },
        "id": "b_N1VBAdGiFD",
        "outputId": "f8e5f979-76e6-465d-fcf2-2cdf85b2d5cb"
      },
      "execution_count": 46,
      "outputs": [
        {
          "output_type": "execute_result",
          "data": {
            "text/plain": [
              "['longitude',\n",
              " 'latitude',\n",
              " 'housing_median_age',\n",
              " 'total_rooms',\n",
              " 'total_bedrooms',\n",
              " 'population',\n",
              " 'households',\n",
              " 'median_income',\n",
              " 'median_house_value',\n",
              " 'roomsPerHousehold',\n",
              " 'populationPerHousehold',\n",
              " 'bedroomsPerRoom']"
            ]
          },
          "metadata": {},
          "execution_count": 46
        }
      ]
    },
    {
      "cell_type": "markdown",
      "source": [
        "Em seguida, - e isso já está prevendo um problema que você pode ter ao padronizar os valores em seu conjunto de dados - você também reordenará os valores. Como você não deseja necessariamente padronizar seus valores de destino, certifique-se de isolá-los em seu conjunto de dados.\n",
        "\n",
        "Nesse caso, você precisará fazer isso usando o método `select()` e passando os nomes das colunas na ordem que for mais adequada. Nesse caso, a variável de destino \"median_house_value\" é colocada primeiro, para que não seja afetada pela padronização.\n",
        "\n",
        "Observe também que este é o momento de deixar de fora as variáveis ​​que você pode não querer considerar em sua análise. Nesse caso, vamos deixar de fora variáveis ​​como `longitude`, `latitude` e `housing_median_age` e `total_rooms`."
      ],
      "metadata": {
        "id": "f5s1uHn6nYSG"
      }
    },
    {
      "cell_type": "code",
      "source": [
        "# Realizando a seleção dos atributos\n",
        "df = df.select(\n",
        "    'median_house_value',\n",
        "    'total_bedrooms',\n",
        "    'population',\n",
        "    'households',\n",
        "    'median_income',\n",
        "    'roomsPerHousehold',\n",
        "    'populationPerHousehold',\n",
        "    'bedroomsPerRoom'\n",
        ")"
      ],
      "metadata": {
        "id": "NgNHkHTx7E5S"
      },
      "execution_count": 48,
      "outputs": []
    },
    {
      "cell_type": "markdown",
      "source": [
        "**Estandardização**\n",
        "\n",
        "<br>\n",
        "Agora que você reordenou os dados, está pronto para normalizá-los. Ou quase, pelo menos. Há apenas mais uma etapa que você precisa seguir que é separar os recursos da variável de destino. Em essência, isso se resume a isolar a primeira coluna em seu DataFrame do restante das colunas.\n",
        "\n",
        "Nesse caso, você usará a função `map()` que usa com **RDDs** para executar essa ação. Você também vê que faz uso da função `DenseVector()`, mas afinal para que isso? \n",
        "\n",
        "    Um vetor denso é um vetor local apoiado por uma matriz dupla que representa seus valores de entrada. \n",
        "    Em outras palavras, é usado para armazenar matrizes de valores para uso no PySpark.\n",
        "\n",
        "Em seguida, você volta a criar um DataFrame `input_data` e renomeia as colunas passando uma lista como um segundo argumento. Esta lista consiste nos nomes das colunas **\"label\"** e **\"features\"**."
      ],
      "metadata": {
        "id": "_9a6VctAoRNe"
      }
    },
    {
      "cell_type": "code",
      "source": [
        "# Importando o módulo para realizar a criação do vetor denso\n",
        "from pyspark.ml.linalg import DenseVector"
      ],
      "metadata": {
        "id": "fshq2rLu7E3R"
      },
      "execution_count": 49,
      "outputs": []
    },
    {
      "cell_type": "code",
      "source": [
        "# Realizando o mapeamento dos atributos e com a função \"lambda\" aplicando a vetorização\n",
        "input_data = df.rdd.map(\n",
        "    lambda x: (x[0], DenseVector(x[1:]))\n",
        ")"
      ],
      "metadata": {
        "id": "qVC-VkWP7Ezd"
      },
      "execution_count": 50,
      "outputs": []
    },
    {
      "cell_type": "code",
      "source": [
        "# Instanciando um novo objeto data frame com os dados vetorizados\n",
        "df = spark.createDataFrame(\n",
        "    data=input_data,\n",
        "    schema=['label', 'features']\n",
        ")"
      ],
      "metadata": {
        "id": "iUzMKq6C7ExS"
      },
      "execution_count": 51,
      "outputs": []
    },
    {
      "cell_type": "code",
      "source": [
        "# Visualizando as primeiras observações\n",
        "df.show()"
      ],
      "metadata": {
        "colab": {
          "base_uri": "https://localhost:8080/"
        },
        "id": "shiW1Hl-7Et1",
        "outputId": "0c46e9b9-84d3-46f4-8a04-eaec1ca27392"
      },
      "execution_count": 52,
      "outputs": [
        {
          "output_type": "stream",
          "name": "stdout",
          "text": [
            "+-----+--------------------+\n",
            "|label|            features|\n",
            "+-----+--------------------+\n",
            "|0.669|[1283.0,1015.0,47...|\n",
            "|0.801|[1901.0,1129.0,46...|\n",
            "|0.857|[174.0,333.0,117....|\n",
            "|0.734|[337.0,515.0,226....|\n",
            "|0.655|[326.0,624.0,262....|\n",
            "| 0.74|[236.0,671.0,239....|\n",
            "|0.824|[680.0,1841.0,633...|\n",
            "|0.485|[168.0,375.0,158....|\n",
            "|0.584|[1175.0,3134.0,10...|\n",
            "|0.481|[309.0,787.0,271....|\n",
            "|0.865|[801.0,2434.0,824...|\n",
            "| 0.62|[483.0,1182.0,437...|\n",
            "|0.486|[248.0,580.0,211....|\n",
            "|0.704|[464.0,1346.0,479...|\n",
            "| 0.45|[378.0,949.0,300....|\n",
            "|0.691|[587.0,1005.0,401...|\n",
            "|0.949|[322.0,666.0,256....|\n",
            "| 0.25|[33.0,64.0,27.0,0...|\n",
            "| 0.44|[386.0,775.0,320....|\n",
            "|0.275|[24.0,29.0,15.0,1...|\n",
            "+-----+--------------------+\n",
            "only showing top 20 rows\n",
            "\n"
          ]
        }
      ]
    },
    {
      "cell_type": "markdown",
      "source": [
        "Em seguida, você pode finalmente dimensionar os dados. Você pode usar o Spark ML para fazer isso, esta biblioteca tornará o aprendizado de máquina em Big Data escalável e fácil. Você encontrará ferramentas como algoritmos de ML e tudo o que precisa para criar pipelines de ML práticos. Nesse caso, você não precisa fazer muito pré-processamento, portanto, um pipeline talvez seja um exagero, mas se quiser investigá-lo, considere definitivamente visitar esta [página](https://spark.apache.org/docs/latest/ml-pipeline.html).\n",
        "\n",
        "As colunas de entrada são os recursos, e a coluna de saída com o redimensionado que será incluído no `scaled_df` será nomeada **\"features_scaled\"**."
      ],
      "metadata": {
        "id": "S-cTXBIlyAhK"
      }
    },
    {
      "cell_type": "code",
      "source": [
        "# Importando o módulo\n",
        "from pyspark.ml.feature import StandardScaler"
      ],
      "metadata": {
        "id": "RWHcEvQAHOe1"
      },
      "execution_count": 53,
      "outputs": []
    },
    {
      "cell_type": "code",
      "source": [
        "# Selecionando a coluna de entrada e nomeando a coluna de saída\n",
        "standardScaler = StandardScaler(\n",
        "    inputCol='features',\n",
        "    outputCol='features_scaled'\n",
        ")"
      ],
      "metadata": {
        "id": "52UM0UNHHOde"
      },
      "execution_count": 54,
      "outputs": []
    },
    {
      "cell_type": "code",
      "source": [
        "# Treinando o modelo com o conjunto de dados\n",
        "scaler = standardScaler.fit(df)"
      ],
      "metadata": {
        "id": "N1laeJB1HOZj"
      },
      "execution_count": 55,
      "outputs": []
    },
    {
      "cell_type": "code",
      "source": [
        "# Realizando o redimensionamento dos dados\n",
        "scaled_df = scaler.transform(df)"
      ],
      "metadata": {
        "id": "wfC5ngpeHOWl"
      },
      "execution_count": 56,
      "outputs": []
    },
    {
      "cell_type": "code",
      "source": [
        "# Visualizando duas linhas após o  redimensionamento dos dados\n",
        "scaled_df.take(2)"
      ],
      "metadata": {
        "colab": {
          "base_uri": "https://localhost:8080/"
        },
        "id": "N7itmY9VHOVE",
        "outputId": "64270634-3eb1-44c8-cfd0-6958d7e0a5e3"
      },
      "execution_count": 57,
      "outputs": [
        {
          "output_type": "execute_result",
          "data": {
            "text/plain": [
              "[Row(label=0.669, features=DenseVector([1283.0, 1015.0, 472.0, 1.4936, 11.8898, 2.1504, 0.2286]), features_scaled=DenseVector([3.0502, 0.8974, 1.2365, 0.786, 4.7528, 0.5281, 3.939])),\n",
              " Row(label=0.801, features=DenseVector([1901.0, 1129.0, 463.0, 1.82, 16.5227, 2.4384, 0.2485]), features_scaled=DenseVector([4.5194, 0.9982, 1.2129, 0.9577, 6.6048, 0.5988, 4.2815]))]"
            ]
          },
          "metadata": {},
          "execution_count": 57
        }
      ]
    },
    {
      "cell_type": "code",
      "source": [
        "# Visualizando a estatística descritiva \n",
        "scaled_df.describe().show()"
      ],
      "metadata": {
        "colab": {
          "base_uri": "https://localhost:8080/"
        },
        "id": "8L6BroKdHOTl",
        "outputId": "1a42d6b1-3029-41dd-eea8-5df54e16bf20"
      },
      "execution_count": 58,
      "outputs": [
        {
          "output_type": "stream",
          "name": "stdout",
          "text": [
            "+-------+-----------------+\n",
            "|summary|            label|\n",
            "+-------+-----------------+\n",
            "|  count|            20000|\n",
            "|   mean| 2.07082716750003|\n",
            "| stddev|1.155570558561624|\n",
            "|    min|          0.14999|\n",
            "|    max|          5.00001|\n",
            "+-------+-----------------+\n",
            "\n"
          ]
        }
      ]
    },
    {
      "cell_type": "markdown",
      "source": [
        "### **Construindo um modelo de aprendizado de máquina com Spark ML**\n",
        "\n",
        "Com todo o pré-processamento concluído, finalmente é hora de começar a construir seu modelo de Regressão Linear! Como sempre, primeiro você precisa dividir os dados em conjuntos de treinamento e teste. Felizmente, isso não é problema com o método `randomSplit()`."
      ],
      "metadata": {
        "id": "8Pqbaa6TzWjU"
      }
    },
    {
      "cell_type": "code",
      "source": [
        "# Separando os dados em treino e de validação\n",
        "train_data, val_data = scaled_df.randomSplit(\n",
        "    weights=[0.8, 0.2], seed=1522\n",
        ")"
      ],
      "metadata": {
        "id": "Wn6dOfj3HOOZ"
      },
      "execution_count": 59,
      "outputs": []
    },
    {
      "cell_type": "code",
      "source": [
        "# Visualizando a dimensão dos conjuntod de dados apóes seu particionamento\n",
        "dataframe_dim(data=train_data), dataframe_dim(data=val_data),"
      ],
      "metadata": {
        "colab": {
          "base_uri": "https://localhost:8080/"
        },
        "id": "4M1ZkLzKIf89",
        "outputId": "bc93e501-dca5-4bbb-f60c-f0ec7ccff70f"
      },
      "execution_count": 60,
      "outputs": [
        {
          "output_type": "execute_result",
          "data": {
            "text/plain": [
              "((16032, 3), (3968, 3))"
            ]
          },
          "metadata": {},
          "execution_count": 60
        }
      ]
    },
    {
      "cell_type": "code",
      "source": [
        "# Visualizando as primeiras observações do conjunto de dados de treino\n",
        "train_data.show()"
      ],
      "metadata": {
        "colab": {
          "base_uri": "https://localhost:8080/"
        },
        "id": "R0IZlzzuIf3c",
        "outputId": "284a332e-ae2d-438f-9c7f-28840e8263fc"
      },
      "execution_count": 61,
      "outputs": [
        {
          "output_type": "stream",
          "name": "stdout",
          "text": [
            "+-------+--------------------+--------------------+\n",
            "|  label|            features|     features_scaled|\n",
            "+-------+--------------------+--------------------+\n",
            "|0.14999|[28.0,18.0,8.0,0....|[0.06656663937606...|\n",
            "|0.14999|[73.0,85.0,38.0,1...|[0.17354873837331...|\n",
            "|0.14999|[239.0,490.0,164....|[0.56819381467428...|\n",
            "|0.14999|[267.0,628.0,225....|[0.63476045405035...|\n",
            "|  0.175|[168.0,259.0,138....|[0.39939983625640...|\n",
            "|  0.225|[451.0,1230.0,375...|[1.07219836995022...|\n",
            "|  0.225|[1743.0,6835.0,14...|[4.14377330116017...|\n",
            "|   0.25|[33.0,64.0,27.0,0...|[0.07845353926465...|\n",
            "|  0.266|[309.0,808.0,294....|[0.73461041311445...|\n",
            "|  0.269|[543.0,1423.0,482...|[1.29091732790015...|\n",
            "|  0.275|[24.0,29.0,15.0,1...|[0.05705711946520...|\n",
            "|  0.283|[3114.0,12427.0,2...|[7.40316125060974...|\n",
            "|    0.3|[183.0,500.0,177....|[0.43506053592215...|\n",
            "|  0.325|[49.0,51.0,20.0,4...|[0.11649161890811...|\n",
            "|  0.325|[332.0,667.0,288....|[0.78929015260193...|\n",
            "|  0.342|[153.0,112.0,47.0...|[0.36373913659065...|\n",
            "|  0.344|[121.0,530.0,115....|[0.28766297730371...|\n",
            "|   0.35|[1747.0,6852.0,15...|[4.15328282107104...|\n",
            "|  0.366|[199.0,567.0,204....|[0.47309861556561...|\n",
            "|  0.367|[238.0,425.0,157....|[0.56581643469657...|\n",
            "+-------+--------------------+--------------------+\n",
            "only showing top 20 rows\n",
            "\n"
          ]
        }
      ]
    },
    {
      "cell_type": "code",
      "source": [
        "# Visualizando as primeiras observações do conjunto de dados de validação\n",
        "val_data.show()"
      ],
      "metadata": {
        "colab": {
          "base_uri": "https://localhost:8080/"
        },
        "id": "h1vVlWvUIf0u",
        "outputId": "c39950bd-72fb-4b04-f173-473bced86a80"
      },
      "execution_count": 62,
      "outputs": [
        {
          "output_type": "stream",
          "name": "stdout",
          "text": [
            "+-----+--------------------+--------------------+\n",
            "|label|            features|     features_scaled|\n",
            "+-----+--------------------+--------------------+\n",
            "|0.225|[73.0,216.0,63.0,...|[0.17354873837331...|\n",
            "|0.225|[79.0,167.0,53.0,...|[0.18781301823961...|\n",
            "|  0.3|[448.0,338.0,182....|[1.06506623001707...|\n",
            "|0.325|[275.0,508.0,253....|[0.65377949387208...|\n",
            "|0.329|[386.0,436.0,213....|[0.91766867139863...|\n",
            "|0.346|[208.0,660.0,188....|[0.49449503536506...|\n",
            "|0.388|[103.0,470.0,96.0...|[0.24487013770481...|\n",
            "|0.388|[263.0,1274.0,241...|[0.62525093413948...|\n",
            "|0.394|[255.0,677.0,213....|[0.60623189431775...|\n",
            "|0.398|[316.0,672.0,241....|[0.75125207295847...|\n",
            "|0.425|[30.0,542.0,32.0,...|[0.07132139933150...|\n",
            "| 0.43|[228.0,1222.0,224...|[0.54204263491940...|\n",
            "|0.438|[78.0,284.0,73.0,...|[0.18543563826190...|\n",
            "| 0.44|[835.0,1908.0,686...|[1.98511228139342...|\n",
            "|0.444|[441.0,1530.0,391...|[1.04842457017305...|\n",
            "|0.444|[465.0,1193.0,447...|[1.10548168963825...|\n",
            "|0.446|[453.0,1613.0,400...|[1.07695312990565...|\n",
            "|0.446|[2190.0,4781.0,19...|[5.20646215119953...|\n",
            "|0.455|[753.0,2949.0,699...|[1.79016712322066...|\n",
            "|0.462|[448.0,1155.0,421...|[1.06506623001707...|\n",
            "+-----+--------------------+--------------------+\n",
            "only showing top 20 rows\n",
            "\n"
          ]
        }
      ]
    },
    {
      "cell_type": "code",
      "source": [
        "# importando o módulo de regressão linear\n",
        "from pyspark.ml.regression import LinearRegression"
      ],
      "metadata": {
        "id": "lio1kAe8IfxJ"
      },
      "execution_count": 63,
      "outputs": []
    },
    {
      "cell_type": "code",
      "source": [
        "# Definindo os parâmetros do modelo\n",
        "linearReg = LinearRegression(\n",
        "    labelCol='label',\n",
        "    maxIter=10, \n",
        "    regParam=0.3,\n",
        "    elasticNetParam=0.8\n",
        ")"
      ],
      "metadata": {
        "id": "wkmi5ywgIfvo"
      },
      "execution_count": 64,
      "outputs": []
    },
    {
      "cell_type": "code",
      "source": [
        "# Treinando o modelo no conjunto de dados de treino\n",
        "linearModel = linearReg.fit(dataset=train_data)"
      ],
      "metadata": {
        "id": "cZKQKqpYIfrv"
      },
      "execution_count": 65,
      "outputs": []
    },
    {
      "cell_type": "code",
      "source": [
        "# Realizando a predição do modelo após seu treinamento no conjunto de dados de validação\n",
        "predicted = linearModel.transform(dataset=val_data)"
      ],
      "metadata": {
        "id": "PfbASRQSIfpz"
      },
      "execution_count": 66,
      "outputs": []
    },
    {
      "cell_type": "code",
      "source": [
        "# Visualizando as primeiras observações do objeto \"predicted\"\n",
        "predicted.show(truncate=True)"
      ],
      "metadata": {
        "colab": {
          "base_uri": "https://localhost:8080/"
        },
        "id": "pq7lFzG-05j1",
        "outputId": "eac797e7-a4ee-4c1d-e9d3-059a43a1277a"
      },
      "execution_count": 69,
      "outputs": [
        {
          "output_type": "stream",
          "name": "stdout",
          "text": [
            "+-----+--------------------+--------------------+------------------+\n",
            "|label|            features|     features_scaled|        prediction|\n",
            "+-----+--------------------+--------------------+------------------+\n",
            "|0.225|[73.0,216.0,63.0,...|[0.17354873837331...|1.7404451323951722|\n",
            "|0.225|[79.0,167.0,53.0,...|[0.18781301823961...|1.2173172622444626|\n",
            "|  0.3|[448.0,338.0,182....|[1.06506623001707...|1.3343981294820373|\n",
            "|0.325|[275.0,508.0,253....|[0.65377949387208...|1.4535067317868342|\n",
            "|0.329|[386.0,436.0,213....|[0.91766867139863...|1.3160374051062278|\n",
            "|0.346|[208.0,660.0,188....|[0.49449503536506...|1.6174199459194385|\n",
            "|0.388|[103.0,470.0,96.0...|[0.24487013770481...| 1.535588336220294|\n",
            "|0.388|[263.0,1274.0,241...|[0.62525093413948...|1.5367549783137644|\n",
            "|0.394|[255.0,677.0,213....|[0.60623189431775...| 1.425979533819471|\n",
            "|0.398|[316.0,672.0,241....|[0.75125207295847...| 1.528144048576244|\n",
            "|0.425|[30.0,542.0,32.0,...|[0.07132139933150...|1.4574788703431742|\n",
            "| 0.43|[228.0,1222.0,224...|[0.54204263491940...|1.4338960337394493|\n",
            "|0.438|[78.0,284.0,73.0,...|[0.18543563826190...|1.4227573794660762|\n",
            "| 0.44|[835.0,1908.0,686...|[1.98511228139342...| 1.480728380634479|\n",
            "|0.444|[441.0,1530.0,391...|[1.04842457017305...|1.4310349828911764|\n",
            "|0.444|[465.0,1193.0,447...|[1.10548168963825...|1.4119242743124216|\n",
            "|0.446|[453.0,1613.0,400...|[1.07695312990565...|1.5203942118124758|\n",
            "|0.446|[2190.0,4781.0,19...|[5.20646215119953...|1.4726452175582907|\n",
            "|0.455|[753.0,2949.0,699...|[1.79016712322066...|1.4895059735282095|\n",
            "|0.462|[448.0,1155.0,421...|[1.06506623001707...|1.4559789019372835|\n",
            "+-----+--------------------+--------------------+------------------+\n",
            "only showing top 20 rows\n",
            "\n"
          ]
        }
      ]
    },
    {
      "cell_type": "code",
      "source": [
        "# Selecionando a coluna \"prediction\" e aplicando a função \".map()\" juntamente com a \"lambda\"\n",
        "predictions = predicted.select('prediction').rdd.map(\n",
        "    lambda x: x[0]\n",
        ")\n",
        "\n",
        "predictions"
      ],
      "metadata": {
        "id": "wFY1enAVIfl4",
        "colab": {
          "base_uri": "https://localhost:8080/"
        },
        "outputId": "d4c67c48-168b-474a-b3f7-b6445f087f3a"
      },
      "execution_count": 73,
      "outputs": [
        {
          "output_type": "execute_result",
          "data": {
            "text/plain": [
              "PythonRDD[190] at RDD at PythonRDD.scala:53"
            ]
          },
          "metadata": {},
          "execution_count": 73
        }
      ]
    },
    {
      "cell_type": "code",
      "source": [
        "# Selecionando a coluna \"label\" e aplicando a função \".map()\" juntamente com a \"lambda\"\n",
        "labels = predicted.select('label').rdd.map(\n",
        "    lambda x: x[0]\n",
        ")\n",
        "\n",
        "labels"
      ],
      "metadata": {
        "id": "c3xGENfJIfi-",
        "colab": {
          "base_uri": "https://localhost:8080/"
        },
        "outputId": "49e5d50b-41c1-4273-e27e-70b8a505690c"
      },
      "execution_count": 74,
      "outputs": [
        {
          "output_type": "execute_result",
          "data": {
            "text/plain": [
              "PythonRDD[195] at RDD at PythonRDD.scala:53"
            ]
          },
          "metadata": {},
          "execution_count": 74
        }
      ]
    },
    {
      "cell_type": "code",
      "source": [
        "# Com a função \".zip()\" realizando a concatenação dos objetos \"predictions\" e \"labels\"\n",
        "predictionAndLabel = predictions.zip(labels).collect()"
      ],
      "metadata": {
        "id": "hU-VsYGJHOLj"
      },
      "execution_count": 75,
      "outputs": []
    },
    {
      "cell_type": "code",
      "source": [
        "# Visualizando as 15 primeiras observações do obbjeto \"predictionAndLabel\"\n",
        "predictionAndLabel[:15]"
      ],
      "metadata": {
        "colab": {
          "base_uri": "https://localhost:8080/"
        },
        "id": "-Cw8DpZJHOGn",
        "outputId": "bec06207-d718-406b-bbda-54467dc9eb02"
      },
      "execution_count": 76,
      "outputs": [
        {
          "output_type": "execute_result",
          "data": {
            "text/plain": [
              "[(1.7404451323951722, 0.225),\n",
              " (1.2173172622444626, 0.225),\n",
              " (1.3343981294820373, 0.3),\n",
              " (1.4535067317868342, 0.325),\n",
              " (1.3160374051062278, 0.325),\n",
              " (1.59344822861789, 0.344),\n",
              " (1.483506099904647, 0.379),\n",
              " (1.535588336220294, 0.388),\n",
              " (1.6021424899335153, 0.392),\n",
              " (1.2894268544980199, 0.396),\n",
              " (1.146290980506271, 0.425),\n",
              " (1.4154519777855348, 0.427),\n",
              " (1.4159797444468667, 0.437),\n",
              " (1.5927815759930497, 0.44),\n",
              " (1.4528123019692922, 0.441)]"
            ]
          },
          "metadata": {},
          "execution_count": 76
        }
      ]
    },
    {
      "cell_type": "markdown",
      "source": [
        "### **Avaliando o modelo**\n",
        "\n",
        "<br>\n",
        "Olhar para os valores previstos é uma coisa, mas outra e melhor é olhar para algumas métricas para ter uma ideia melhor de quão bom é o seu modelo. Você pode começar imprimindo os coeficientes e a interceptação do modelo."
      ],
      "metadata": {
        "id": "30FzndH68BhW"
      }
    },
    {
      "cell_type": "code",
      "source": [
        "# Visualizando o coeficiente angular da reta de regressão\n",
        "linearModel.coefficients"
      ],
      "metadata": {
        "colab": {
          "base_uri": "https://localhost:8080/"
        },
        "id": "wfhO42AlHODs",
        "outputId": "9deba3bf-b0d9-4a2c-a8a5-19477b9765f9"
      },
      "execution_count": 77,
      "outputs": [
        {
          "output_type": "execute_result",
          "data": {
            "text/plain": [
              "DenseVector([0.0, 0.0, 0.0, 0.2778, 0.0, 0.0, 0.0])"
            ]
          },
          "metadata": {},
          "execution_count": 77
        }
      ]
    },
    {
      "cell_type": "code",
      "source": [
        "# Visualizando o valor do intercepto\n",
        "linearModel.intercept"
      ],
      "metadata": {
        "colab": {
          "base_uri": "https://localhost:8080/"
        },
        "id": "Y-LfgfnsKNu3",
        "outputId": "1ac8bf5b-4996-41c3-b9e7-2d3ed0a429b8"
      },
      "execution_count": 78,
      "outputs": [
        {
          "output_type": "execute_result",
          "data": {
            "text/plain": [
              "0.9974052276252747"
            ]
          },
          "metadata": {},
          "execution_count": 78
        }
      ]
    },
    {
      "cell_type": "markdown",
      "source": [
        "Em seguida, você também pode usar o atributo **summary** para obter o `rootMeanSquaredError`, `r2` e o `r2adj`."
      ],
      "metadata": {
        "id": "mnbP2ple8Pl1"
      }
    },
    {
      "cell_type": "markdown",
      "source": [
        "- RMSE (Root Mean Squared Error - \"raiz do erro quadrático médio\") mede quanto erro existe entre dois conjuntos de dados comparando um valor previsto e um valor observado ou conhecido. Quanto menor for um valor de RMSE, mais próximos serão os valores previstos e observados.\n",
        "\n",
        "- R2 (“R ao quadrado”) ou o coeficiente de determinação é uma medida que mostra o quão perto os dados estão da linha de regressão ajustada. Esta pontuação estará sempre entre 0 e 100% (ou 0 a 1 neste caso), onde 0% indica que o modelo não explica nada da variabilidade dos dados de resposta em torno de sua média, e 100% indica o contrário, explica toda a variabilidade. Isso significa que, em geral, quanto maior o R-quadrado, melhor o modelo se ajusta aos seus dados.\n",
        "\n",
        "- R-quadrado ajustado é uma versão modificada do R-quadrado que foi ajustada para o número de preditores no modelo. O R-quadrado ajustado aumenta somente se o novo termo melhorar o modelo mais do que seria esperado pelo acaso. Ele diminui quando um preditor melhora o modelo menos do que o esperado por acaso."
      ],
      "metadata": {
        "id": "BZ-rmElr8o_E"
      }
    },
    {
      "cell_type": "code",
      "source": [
        "# Visualizando a raiz do erro quadrático médio\n",
        "linearModel.summary.rootMeanSquaredError"
      ],
      "metadata": {
        "colab": {
          "base_uri": "https://localhost:8080/"
        },
        "id": "fkGSFK44KNqT",
        "outputId": "e7534236-5989-4e81-8878-6c564a553405"
      },
      "execution_count": 79,
      "outputs": [
        {
          "output_type": "execute_result",
          "data": {
            "text/plain": [
              "0.8841928587948994"
            ]
          },
          "metadata": {},
          "execution_count": 79
        }
      ]
    },
    {
      "cell_type": "code",
      "source": [
        "# Visualizando o R ao quadrado\n",
        "linearModel.summary.r2"
      ],
      "metadata": {
        "colab": {
          "base_uri": "https://localhost:8080/"
        },
        "id": "fjzNjyXRKNmK",
        "outputId": "d337d2da-df5d-4270-fa0e-5b3376ee5c70"
      },
      "execution_count": 80,
      "outputs": [
        {
          "output_type": "execute_result",
          "data": {
            "text/plain": [
              "0.41845382365605144"
            ]
          },
          "metadata": {},
          "execution_count": 80
        }
      ]
    },
    {
      "cell_type": "code",
      "source": [
        "# Visualizando o R ao quadrado ajustado\n",
        "linearModel.summary.r2adj"
      ],
      "metadata": {
        "colab": {
          "base_uri": "https://localhost:8080/"
        },
        "id": "eHaTUY7ybJVp",
        "outputId": "522c2b47-278e-441d-93ce-a101d64710d6"
      },
      "execution_count": 81,
      "outputs": [
        {
          "output_type": "execute_result",
          "data": {
            "text/plain": [
              "0.4181997782719771"
            ]
          },
          "metadata": {},
          "execution_count": 81
        }
      ]
    },
    {
      "cell_type": "markdown",
      "source": [
        "E suma, há definitivamente algumas melhorias necessárias para o seu modelo! Se você quiser continuar com este modelo, você pode \"brincar\" com os parâmetros que você passou para o seu modelo, as variáveis ​​que você incluiu no seu DataFrame original, e etc.\n",
        "\n",
        "Lembre-se que, todo projeto de análise de dados e construção de modelos de aprendizado de máquina é importante sempre manter um espírito crítico e usar métodos cientificos com embasemento teórico e prático!\n",
        "\n",
        "Terminamos nosso tutorial e por enquanto é isso! "
      ],
      "metadata": {
        "id": "1pjix5Rg-phG"
      }
    },
    {
      "cell_type": "code",
      "source": [
        "# Parando o \"SparkSession\"\n",
        "spark.stop()"
      ],
      "metadata": {
        "id": "3At51lbXKNkM"
      },
      "execution_count": 82,
      "outputs": []
    },
    {
      "cell_type": "code",
      "source": [
        "# Visualizando as variávies de ambiente\n",
        "%whos"
      ],
      "metadata": {
        "colab": {
          "base_uri": "https://localhost:8080/"
        },
        "id": "O_RYeqoIKNgp",
        "outputId": "0595d26d-9e60-4853-a4d0-1d7119bd16ad"
      },
      "execution_count": 83,
      "outputs": [
        {
          "output_type": "stream",
          "name": "stdout",
          "text": [
            "Variable                 Type                     Data/Info\n",
            "-----------------------------------------------------------\n",
            "DenseVector              type                     <class 'pyspark.ml.linalg.DenseVector'>\n",
            "LinearRegression         ABCMeta                  <class 'pyspark.ml.regression.LinearRegression'>\n",
            "SparkSession             type                     <class 'pyspark.sql.session.SparkSession'>\n",
            "StandardScaler           ABCMeta                  <class 'pyspark.ml.feature.StandardScaler'>\n",
            "bedroomsPerRoom          DataFrame                DataFrame[(total_bedrooms / total_rooms): double]\n",
            "california_housing       DataFrame                       longitude  latitud<...>n[20000 rows x 9 columns]\n",
            "col                      function                 <function col at 0x7fda98d2f160>\n",
            "cols                     list                     n=9\n",
            "dataframe_dim            function                 <function dataframe_dim at 0x7fda98d1eca0>\n",
            "df                       DataFrame                DataFrame[label: double, features: vector]\n",
            "findspark                module                   <module 'findspark' from <...>t-packages/findspark.py'>\n",
            "input_data               PipelinedRDD             <object with id 140576843106048 (str() failed)>\n",
            "labels                   PipelinedRDD             PythonRDD[195] at RDD at PythonRDD.scala:53\n",
            "linearModel              LinearRegressionModel    LinearRegressionModel: ui<...>1356b9d248, numFeatures=7\n",
            "linearReg                LinearRegression         LinearRegression_da1356b9d248\n",
            "os                       module                   <module 'os' from '/usr/lib/python3.9/os.py'>\n",
            "pd                       module                   <module 'pandas' from '/u<...>ages/pandas/__init__.py'>\n",
            "populationPerHousehold   DataFrame                DataFrame[(population / households): double]\n",
            "predicted                DataFrame                DataFrame[label: double, <...>ctor, prediction: double]\n",
            "predictionAndLabel       list                     n=3968\n",
            "predictions              PipelinedRDD             PythonRDD[190] at RDD at PythonRDD.scala:53\n",
            "roomsPerHousehold        DataFrame                DataFrame[(total_rooms / households): double]\n",
            "sc                       SparkContext             <SparkContext master=loca<...>=Linear Regression Model>\n",
            "scaled_df                DataFrame                DataFrame[label: double, <...> features_scaled: vector]\n",
            "scaler                   StandardScalerModel      StandardScalerModel: uid=<...>hMean=false, withStd=true\n",
            "spark                    SparkSession             <pyspark.sql.session.Spar<...>object at 0x7fdabc4e2430>\n",
            "standardScaler           StandardScaler           StandardScaler_6f7da60bb359\n",
            "test                     DataFrame                      longitude  latitude<...>\\n[3000 rows x 9 columns]\n",
            "test_data                str                      /content/sample_data/california_housing_test.csv\n",
            "train                    DataFrame                       longitude  latitud<...>n[17000 rows x 9 columns]\n",
            "train_data               DataFrame                DataFrame[label: double, <...> features_scaled: vector]\n",
            "val_data                 DataFrame                DataFrame[label: double, <...> features_scaled: vector]\n"
          ]
        }
      ]
    },
    {
      "cell_type": "markdown",
      "source": [
        "### **Material de referência**\n",
        "\n",
        "- https://www.datacamp.com/tutorial/apache-spark-tutorial-machine-learning"
      ],
      "metadata": {
        "id": "a5a-9BIlAe1O"
      }
    },
    {
      "cell_type": "code",
      "source": [],
      "metadata": {
        "id": "ZdiJXMhdKNeF"
      },
      "execution_count": null,
      "outputs": []
    },
    {
      "cell_type": "code",
      "source": [],
      "metadata": {
        "id": "rrJz2M-SKNag"
      },
      "execution_count": null,
      "outputs": []
    },
    {
      "cell_type": "code",
      "source": [],
      "metadata": {
        "id": "_Vf3JEhbKsBY"
      },
      "execution_count": null,
      "outputs": []
    }
  ]
}